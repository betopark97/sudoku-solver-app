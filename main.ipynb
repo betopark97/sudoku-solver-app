{
 "cells": [
  {
   "cell_type": "markdown",
   "metadata": {},
   "source": [
    "# Import libraries"
   ]
  },
  {
   "cell_type": "code",
   "execution_count": 9,
   "metadata": {},
   "outputs": [],
   "source": [
    "import numpy as np\n",
    "import pandas as pd\n",
    "import matplotlib.pyplot as plt\n",
    "from sklearn.model_selection import train_test_split\n",
    "import cv2\n",
    "import tensorflow as tf \n",
    "from tensorflow.keras.models import Sequential\n",
    "from tensorflow.keras.layers import Conv2D, MaxPooling2D, Flatten, Dense, Dropout"
   ]
  },
  {
   "cell_type": "markdown",
   "metadata": {},
   "source": [
    "# Explore data"
   ]
  },
  {
   "cell_type": "markdown",
   "metadata": {},
   "source": [
    "First, we are not working with tabular data but with unstructured data because the data is images.\n",
    "Therefore, there is not much of a need to use df.describe for the descriptive statistics.\n",
    "Also no need for df.info as the dataframe is self-explanatory. There is no null values.\n",
    "\n",
    "1. `Origin`: where the data is from, either Chars74K or MNIST datasets.\n",
    "2. `Group`: the segment of the image's quality. It holds values of Hnd (hand written), Fnt (computer font), GoodImg (natural scenes with good quality) and BadImg (natural scenes with bad quality).\n",
    "3. `File`: file path of the images' location.\n",
    "4. `Label`: the images' digit/number.\n",
    "\n",
    "We will make a copy of the original data before continuing."
   ]
  },
  {
   "cell_type": "code",
   "execution_count": 10,
   "metadata": {},
   "outputs": [
    {
     "data": {
      "text/html": [
       "<div>\n",
       "<style scoped>\n",
       "    .dataframe tbody tr th:only-of-type {\n",
       "        vertical-align: middle;\n",
       "    }\n",
       "\n",
       "    .dataframe tbody tr th {\n",
       "        vertical-align: top;\n",
       "    }\n",
       "\n",
       "    .dataframe thead th {\n",
       "        text-align: right;\n",
       "    }\n",
       "</style>\n",
       "<table border=\"1\" class=\"dataframe\">\n",
       "  <thead>\n",
       "    <tr style=\"text-align: right;\">\n",
       "      <th></th>\n",
       "      <th>origin</th>\n",
       "      <th>group</th>\n",
       "      <th>label</th>\n",
       "      <th>file</th>\n",
       "    </tr>\n",
       "  </thead>\n",
       "  <tbody>\n",
       "    <tr>\n",
       "      <th>71589</th>\n",
       "      <td>mnist</td>\n",
       "      <td>Hnd</td>\n",
       "      <td>0</td>\n",
       "      <td>mnist_png/Hnd/Sample0/49278.png</td>\n",
       "    </tr>\n",
       "    <tr>\n",
       "      <th>66923</th>\n",
       "      <td>mnist</td>\n",
       "      <td>Hnd</td>\n",
       "      <td>0</td>\n",
       "      <td>mnist_png/Hnd/Sample0/7985.png</td>\n",
       "    </tr>\n",
       "    <tr>\n",
       "      <th>66924</th>\n",
       "      <td>mnist</td>\n",
       "      <td>Hnd</td>\n",
       "      <td>0</td>\n",
       "      <td>mnist_png/Hnd/Sample0/33087.png</td>\n",
       "    </tr>\n",
       "    <tr>\n",
       "      <th>66925</th>\n",
       "      <td>mnist</td>\n",
       "      <td>Hnd</td>\n",
       "      <td>0</td>\n",
       "      <td>mnist_png/Hnd/Sample0/2996.png</td>\n",
       "    </tr>\n",
       "    <tr>\n",
       "      <th>66926</th>\n",
       "      <td>mnist</td>\n",
       "      <td>Hnd</td>\n",
       "      <td>0</td>\n",
       "      <td>mnist_png/Hnd/Sample0/19845.png</td>\n",
       "    </tr>\n",
       "    <tr>\n",
       "      <th>...</th>\n",
       "      <td>...</td>\n",
       "      <td>...</td>\n",
       "      <td>...</td>\n",
       "      <td>...</td>\n",
       "    </tr>\n",
       "    <tr>\n",
       "      <th>55408</th>\n",
       "      <td>mnist</td>\n",
       "      <td>Hnd</td>\n",
       "      <td>9</td>\n",
       "      <td>mnist_png/Hnd/Sample9/5817.png</td>\n",
       "    </tr>\n",
       "    <tr>\n",
       "      <th>55407</th>\n",
       "      <td>mnist</td>\n",
       "      <td>Hnd</td>\n",
       "      <td>9</td>\n",
       "      <td>mnist_png/Hnd/Sample9/29536.png</td>\n",
       "    </tr>\n",
       "    <tr>\n",
       "      <th>55406</th>\n",
       "      <td>mnist</td>\n",
       "      <td>Hnd</td>\n",
       "      <td>9</td>\n",
       "      <td>mnist_png/Hnd/Sample9/37062.png</td>\n",
       "    </tr>\n",
       "    <tr>\n",
       "      <th>55416</th>\n",
       "      <td>mnist</td>\n",
       "      <td>Hnd</td>\n",
       "      <td>9</td>\n",
       "      <td>mnist_png/Hnd/Sample9/44592.png</td>\n",
       "    </tr>\n",
       "    <tr>\n",
       "      <th>8257</th>\n",
       "      <td>chars74k</td>\n",
       "      <td>Fnt</td>\n",
       "      <td>9</td>\n",
       "      <td>chars74k_png/Fnt/Sample9/img010-00761.png</td>\n",
       "    </tr>\n",
       "  </tbody>\n",
       "</table>\n",
       "<p>71590 rows × 4 columns</p>\n",
       "</div>"
      ],
      "text/plain": [
       "         origin group  label                                       file\n",
       "71589     mnist   Hnd      0            mnist_png/Hnd/Sample0/49278.png\n",
       "66923     mnist   Hnd      0             mnist_png/Hnd/Sample0/7985.png\n",
       "66924     mnist   Hnd      0            mnist_png/Hnd/Sample0/33087.png\n",
       "66925     mnist   Hnd      0             mnist_png/Hnd/Sample0/2996.png\n",
       "66926     mnist   Hnd      0            mnist_png/Hnd/Sample0/19845.png\n",
       "...         ...   ...    ...                                        ...\n",
       "55408     mnist   Hnd      9             mnist_png/Hnd/Sample9/5817.png\n",
       "55407     mnist   Hnd      9            mnist_png/Hnd/Sample9/29536.png\n",
       "55406     mnist   Hnd      9            mnist_png/Hnd/Sample9/37062.png\n",
       "55416     mnist   Hnd      9            mnist_png/Hnd/Sample9/44592.png\n",
       "8257   chars74k   Fnt      9  chars74k_png/Fnt/Sample9/img010-00761.png\n",
       "\n",
       "[71590 rows x 4 columns]"
      ]
     },
     "execution_count": 10,
     "metadata": {},
     "output_type": "execute_result"
    }
   ],
   "source": [
    "original_df = pd.read_csv('./data/numbers.csv')\n",
    "df = original_df.copy()\n",
    "df.sort_values('label')"
   ]
  },
  {
   "cell_type": "code",
   "execution_count": 11,
   "metadata": {},
   "outputs": [
    {
     "data": {
      "text/plain": [
       "origin    0\n",
       "group     0\n",
       "label     0\n",
       "file      0\n",
       "dtype: int64"
      ]
     },
     "execution_count": 11,
     "metadata": {},
     "output_type": "execute_result"
    }
   ],
   "source": [
    "df.isna().sum()"
   ]
  },
  {
   "cell_type": "markdown",
   "metadata": {},
   "source": [
    "We have to take into account that there is no need for our digit recognition model to recognize the digit '0' because we are creating a model specialized for Sudoku. As a reminder, Sudoku is a puzzle that involves only the digits from 1-9. That is why we will be removing the 0.\n",
    "\n",
    "Some advantages of doing so:\n",
    "1. by focusing on the digits that are relevant to the task, the model will be more specialized and better suited for the intended application.\n",
    "2. it simplifies the training process and reduces the complexity of the model, leading to a faster training time and potentially better performance on the digits relevant to the task.\n",
    "3. it helps balance the distribution of digits in the dataset preventing the model from being biased towards the majority class (1-9) and improve its ability to generalize.\n",
    "\n",
    "And we can see that the data for the 0 were 7147 and we will be dropping these values from the dataframe.\n"
   ]
  },
  {
   "cell_type": "code",
   "execution_count": 12,
   "metadata": {},
   "outputs": [
    {
     "name": "stdout",
     "output_type": "stream",
     "text": [
      "Count of the digit 0 in the dataset: 7147\n"
     ]
    },
    {
     "data": {
      "text/plain": [
       "label\n",
       "1    7938\n",
       "2    7147\n",
       "3    7274\n",
       "4    6986\n",
       "5    6573\n",
       "6    7073\n",
       "7    7397\n",
       "8    6964\n",
       "9    7091\n",
       "Name: count, dtype: int64"
      ]
     },
     "execution_count": 12,
     "metadata": {},
     "output_type": "execute_result"
    }
   ],
   "source": [
    "freq_0 = df['origin'].loc[df['label'] == 0].count()\n",
    "print(f'Count of the digit 0 in the dataset: {freq_0}')\n",
    "\n",
    "df = df.loc[df['label'] != 0]\n",
    "df['label'].value_counts().sort_index()\n"
   ]
  },
  {
   "cell_type": "markdown",
   "metadata": {},
   "source": [
    "We can see that after removing 0's in our dataset we have 54,077 images from the MNIST and 10,366 images from Chars74K.\n",
    "So approximately 84% belongs to MNIST and 16% to Chars74k.\n",
    "This ratio will be used for stratified sampling of train and test sets along with the proportion of the 'group' and 'label' features."
   ]
  },
  {
   "cell_type": "code",
   "execution_count": 13,
   "metadata": {},
   "outputs": [
    {
     "data": {
      "text/html": [
       "<div>\n",
       "<style scoped>\n",
       "    .dataframe tbody tr th:only-of-type {\n",
       "        vertical-align: middle;\n",
       "    }\n",
       "\n",
       "    .dataframe tbody tr th {\n",
       "        vertical-align: top;\n",
       "    }\n",
       "\n",
       "    .dataframe thead th {\n",
       "        text-align: right;\n",
       "    }\n",
       "</style>\n",
       "<table border=\"1\" class=\"dataframe\">\n",
       "  <thead>\n",
       "    <tr style=\"text-align: right;\">\n",
       "      <th></th>\n",
       "      <th>origin</th>\n",
       "      <th>count</th>\n",
       "      <th>ratio</th>\n",
       "    </tr>\n",
       "  </thead>\n",
       "  <tbody>\n",
       "    <tr>\n",
       "      <th>0</th>\n",
       "      <td>mnist</td>\n",
       "      <td>54077</td>\n",
       "      <td>0.839145</td>\n",
       "    </tr>\n",
       "    <tr>\n",
       "      <th>1</th>\n",
       "      <td>chars74k</td>\n",
       "      <td>10366</td>\n",
       "      <td>0.160855</td>\n",
       "    </tr>\n",
       "  </tbody>\n",
       "</table>\n",
       "</div>"
      ],
      "text/plain": [
       "     origin  count     ratio\n",
       "0     mnist  54077  0.839145\n",
       "1  chars74k  10366  0.160855"
      ]
     },
     "execution_count": 13,
     "metadata": {},
     "output_type": "execute_result"
    }
   ],
   "source": [
    "df_datasets = df['origin'].value_counts().reset_index()\n",
    "df_datasets['ratio'] = df_datasets['count'] / df_datasets['count'].sum()\n",
    "df_datasets"
   ]
  },
  {
   "cell_type": "markdown",
   "metadata": {},
   "source": [
    "We will further see the count of each label within it's group.\n",
    "The MNIST dataset only contains handwritten digits while the Chars74k contains bad images, good images, and computer fonts as well.\n",
    "Now we are ready to separate the origin of the datasets."
   ]
  },
  {
   "cell_type": "code",
   "execution_count": 14,
   "metadata": {},
   "outputs": [
    {
     "data": {
      "text/html": [
       "<div>\n",
       "<style scoped>\n",
       "    .dataframe tbody tr th:only-of-type {\n",
       "        vertical-align: middle;\n",
       "    }\n",
       "\n",
       "    .dataframe tbody tr th {\n",
       "        vertical-align: top;\n",
       "    }\n",
       "\n",
       "    .dataframe thead th {\n",
       "        text-align: right;\n",
       "    }\n",
       "</style>\n",
       "<table border=\"1\" class=\"dataframe\">\n",
       "  <thead>\n",
       "    <tr style=\"text-align: right;\">\n",
       "      <th></th>\n",
       "      <th>origin</th>\n",
       "      <th>group</th>\n",
       "      <th>label</th>\n",
       "      <th>file</th>\n",
       "      <th>ratio</th>\n",
       "    </tr>\n",
       "  </thead>\n",
       "  <tbody>\n",
       "    <tr>\n",
       "      <th>0</th>\n",
       "      <td>chars74k</td>\n",
       "      <td>BadImag</td>\n",
       "      <td>1</td>\n",
       "      <td>48</td>\n",
       "      <td>0.000745</td>\n",
       "    </tr>\n",
       "    <tr>\n",
       "      <th>1</th>\n",
       "      <td>chars74k</td>\n",
       "      <td>BadImag</td>\n",
       "      <td>2</td>\n",
       "      <td>48</td>\n",
       "      <td>0.000745</td>\n",
       "    </tr>\n",
       "    <tr>\n",
       "      <th>2</th>\n",
       "      <td>chars74k</td>\n",
       "      <td>BadImag</td>\n",
       "      <td>3</td>\n",
       "      <td>22</td>\n",
       "      <td>0.000341</td>\n",
       "    </tr>\n",
       "    <tr>\n",
       "      <th>3</th>\n",
       "      <td>chars74k</td>\n",
       "      <td>BadImag</td>\n",
       "      <td>4</td>\n",
       "      <td>26</td>\n",
       "      <td>0.000403</td>\n",
       "    </tr>\n",
       "    <tr>\n",
       "      <th>4</th>\n",
       "      <td>chars74k</td>\n",
       "      <td>BadImag</td>\n",
       "      <td>5</td>\n",
       "      <td>17</td>\n",
       "      <td>0.000264</td>\n",
       "    </tr>\n",
       "    <tr>\n",
       "      <th>5</th>\n",
       "      <td>chars74k</td>\n",
       "      <td>BadImag</td>\n",
       "      <td>6</td>\n",
       "      <td>20</td>\n",
       "      <td>0.000310</td>\n",
       "    </tr>\n",
       "    <tr>\n",
       "      <th>6</th>\n",
       "      <td>chars74k</td>\n",
       "      <td>BadImag</td>\n",
       "      <td>7</td>\n",
       "      <td>13</td>\n",
       "      <td>0.000202</td>\n",
       "    </tr>\n",
       "    <tr>\n",
       "      <th>7</th>\n",
       "      <td>chars74k</td>\n",
       "      <td>BadImag</td>\n",
       "      <td>8</td>\n",
       "      <td>10</td>\n",
       "      <td>0.000155</td>\n",
       "    </tr>\n",
       "    <tr>\n",
       "      <th>8</th>\n",
       "      <td>chars74k</td>\n",
       "      <td>BadImag</td>\n",
       "      <td>9</td>\n",
       "      <td>37</td>\n",
       "      <td>0.000574</td>\n",
       "    </tr>\n",
       "    <tr>\n",
       "      <th>9</th>\n",
       "      <td>chars74k</td>\n",
       "      <td>Fnt</td>\n",
       "      <td>1</td>\n",
       "      <td>1016</td>\n",
       "      <td>0.015766</td>\n",
       "    </tr>\n",
       "    <tr>\n",
       "      <th>10</th>\n",
       "      <td>chars74k</td>\n",
       "      <td>Fnt</td>\n",
       "      <td>2</td>\n",
       "      <td>1016</td>\n",
       "      <td>0.015766</td>\n",
       "    </tr>\n",
       "    <tr>\n",
       "      <th>11</th>\n",
       "      <td>chars74k</td>\n",
       "      <td>Fnt</td>\n",
       "      <td>3</td>\n",
       "      <td>1016</td>\n",
       "      <td>0.015766</td>\n",
       "    </tr>\n",
       "    <tr>\n",
       "      <th>12</th>\n",
       "      <td>chars74k</td>\n",
       "      <td>Fnt</td>\n",
       "      <td>4</td>\n",
       "      <td>1016</td>\n",
       "      <td>0.015766</td>\n",
       "    </tr>\n",
       "    <tr>\n",
       "      <th>13</th>\n",
       "      <td>chars74k</td>\n",
       "      <td>Fnt</td>\n",
       "      <td>5</td>\n",
       "      <td>1016</td>\n",
       "      <td>0.015766</td>\n",
       "    </tr>\n",
       "    <tr>\n",
       "      <th>14</th>\n",
       "      <td>chars74k</td>\n",
       "      <td>Fnt</td>\n",
       "      <td>6</td>\n",
       "      <td>1016</td>\n",
       "      <td>0.015766</td>\n",
       "    </tr>\n",
       "    <tr>\n",
       "      <th>15</th>\n",
       "      <td>chars74k</td>\n",
       "      <td>Fnt</td>\n",
       "      <td>7</td>\n",
       "      <td>1016</td>\n",
       "      <td>0.015766</td>\n",
       "    </tr>\n",
       "    <tr>\n",
       "      <th>16</th>\n",
       "      <td>chars74k</td>\n",
       "      <td>Fnt</td>\n",
       "      <td>8</td>\n",
       "      <td>1016</td>\n",
       "      <td>0.015766</td>\n",
       "    </tr>\n",
       "    <tr>\n",
       "      <th>17</th>\n",
       "      <td>chars74k</td>\n",
       "      <td>Fnt</td>\n",
       "      <td>9</td>\n",
       "      <td>1016</td>\n",
       "      <td>0.015766</td>\n",
       "    </tr>\n",
       "    <tr>\n",
       "      <th>18</th>\n",
       "      <td>chars74k</td>\n",
       "      <td>GoodImg</td>\n",
       "      <td>1</td>\n",
       "      <td>77</td>\n",
       "      <td>0.001195</td>\n",
       "    </tr>\n",
       "    <tr>\n",
       "      <th>19</th>\n",
       "      <td>chars74k</td>\n",
       "      <td>GoodImg</td>\n",
       "      <td>2</td>\n",
       "      <td>70</td>\n",
       "      <td>0.001086</td>\n",
       "    </tr>\n",
       "    <tr>\n",
       "      <th>20</th>\n",
       "      <td>chars74k</td>\n",
       "      <td>GoodImg</td>\n",
       "      <td>3</td>\n",
       "      <td>50</td>\n",
       "      <td>0.000776</td>\n",
       "    </tr>\n",
       "    <tr>\n",
       "      <th>21</th>\n",
       "      <td>chars74k</td>\n",
       "      <td>GoodImg</td>\n",
       "      <td>4</td>\n",
       "      <td>47</td>\n",
       "      <td>0.000729</td>\n",
       "    </tr>\n",
       "    <tr>\n",
       "      <th>22</th>\n",
       "      <td>chars74k</td>\n",
       "      <td>GoodImg</td>\n",
       "      <td>5</td>\n",
       "      <td>64</td>\n",
       "      <td>0.000993</td>\n",
       "    </tr>\n",
       "    <tr>\n",
       "      <th>23</th>\n",
       "      <td>chars74k</td>\n",
       "      <td>GoodImg</td>\n",
       "      <td>6</td>\n",
       "      <td>64</td>\n",
       "      <td>0.000993</td>\n",
       "    </tr>\n",
       "    <tr>\n",
       "      <th>24</th>\n",
       "      <td>chars74k</td>\n",
       "      <td>GoodImg</td>\n",
       "      <td>7</td>\n",
       "      <td>48</td>\n",
       "      <td>0.000745</td>\n",
       "    </tr>\n",
       "    <tr>\n",
       "      <th>25</th>\n",
       "      <td>chars74k</td>\n",
       "      <td>GoodImg</td>\n",
       "      <td>8</td>\n",
       "      <td>32</td>\n",
       "      <td>0.000497</td>\n",
       "    </tr>\n",
       "    <tr>\n",
       "      <th>26</th>\n",
       "      <td>chars74k</td>\n",
       "      <td>GoodImg</td>\n",
       "      <td>9</td>\n",
       "      <td>34</td>\n",
       "      <td>0.000528</td>\n",
       "    </tr>\n",
       "    <tr>\n",
       "      <th>27</th>\n",
       "      <td>chars74k</td>\n",
       "      <td>Hnd</td>\n",
       "      <td>1</td>\n",
       "      <td>55</td>\n",
       "      <td>0.000853</td>\n",
       "    </tr>\n",
       "    <tr>\n",
       "      <th>28</th>\n",
       "      <td>chars74k</td>\n",
       "      <td>Hnd</td>\n",
       "      <td>2</td>\n",
       "      <td>55</td>\n",
       "      <td>0.000853</td>\n",
       "    </tr>\n",
       "    <tr>\n",
       "      <th>29</th>\n",
       "      <td>chars74k</td>\n",
       "      <td>Hnd</td>\n",
       "      <td>3</td>\n",
       "      <td>55</td>\n",
       "      <td>0.000853</td>\n",
       "    </tr>\n",
       "    <tr>\n",
       "      <th>30</th>\n",
       "      <td>chars74k</td>\n",
       "      <td>Hnd</td>\n",
       "      <td>4</td>\n",
       "      <td>55</td>\n",
       "      <td>0.000853</td>\n",
       "    </tr>\n",
       "    <tr>\n",
       "      <th>31</th>\n",
       "      <td>chars74k</td>\n",
       "      <td>Hnd</td>\n",
       "      <td>5</td>\n",
       "      <td>55</td>\n",
       "      <td>0.000853</td>\n",
       "    </tr>\n",
       "    <tr>\n",
       "      <th>32</th>\n",
       "      <td>chars74k</td>\n",
       "      <td>Hnd</td>\n",
       "      <td>6</td>\n",
       "      <td>55</td>\n",
       "      <td>0.000853</td>\n",
       "    </tr>\n",
       "    <tr>\n",
       "      <th>33</th>\n",
       "      <td>chars74k</td>\n",
       "      <td>Hnd</td>\n",
       "      <td>7</td>\n",
       "      <td>55</td>\n",
       "      <td>0.000853</td>\n",
       "    </tr>\n",
       "    <tr>\n",
       "      <th>34</th>\n",
       "      <td>chars74k</td>\n",
       "      <td>Hnd</td>\n",
       "      <td>8</td>\n",
       "      <td>55</td>\n",
       "      <td>0.000853</td>\n",
       "    </tr>\n",
       "    <tr>\n",
       "      <th>35</th>\n",
       "      <td>chars74k</td>\n",
       "      <td>Hnd</td>\n",
       "      <td>9</td>\n",
       "      <td>55</td>\n",
       "      <td>0.000853</td>\n",
       "    </tr>\n",
       "    <tr>\n",
       "      <th>36</th>\n",
       "      <td>mnist</td>\n",
       "      <td>Hnd</td>\n",
       "      <td>1</td>\n",
       "      <td>6742</td>\n",
       "      <td>0.104620</td>\n",
       "    </tr>\n",
       "    <tr>\n",
       "      <th>37</th>\n",
       "      <td>mnist</td>\n",
       "      <td>Hnd</td>\n",
       "      <td>2</td>\n",
       "      <td>5958</td>\n",
       "      <td>0.092454</td>\n",
       "    </tr>\n",
       "    <tr>\n",
       "      <th>38</th>\n",
       "      <td>mnist</td>\n",
       "      <td>Hnd</td>\n",
       "      <td>3</td>\n",
       "      <td>6131</td>\n",
       "      <td>0.095138</td>\n",
       "    </tr>\n",
       "    <tr>\n",
       "      <th>39</th>\n",
       "      <td>mnist</td>\n",
       "      <td>Hnd</td>\n",
       "      <td>4</td>\n",
       "      <td>5842</td>\n",
       "      <td>0.090654</td>\n",
       "    </tr>\n",
       "    <tr>\n",
       "      <th>40</th>\n",
       "      <td>mnist</td>\n",
       "      <td>Hnd</td>\n",
       "      <td>5</td>\n",
       "      <td>5421</td>\n",
       "      <td>0.084121</td>\n",
       "    </tr>\n",
       "    <tr>\n",
       "      <th>41</th>\n",
       "      <td>mnist</td>\n",
       "      <td>Hnd</td>\n",
       "      <td>6</td>\n",
       "      <td>5918</td>\n",
       "      <td>0.091833</td>\n",
       "    </tr>\n",
       "    <tr>\n",
       "      <th>42</th>\n",
       "      <td>mnist</td>\n",
       "      <td>Hnd</td>\n",
       "      <td>7</td>\n",
       "      <td>6265</td>\n",
       "      <td>0.097218</td>\n",
       "    </tr>\n",
       "    <tr>\n",
       "      <th>43</th>\n",
       "      <td>mnist</td>\n",
       "      <td>Hnd</td>\n",
       "      <td>8</td>\n",
       "      <td>5851</td>\n",
       "      <td>0.090793</td>\n",
       "    </tr>\n",
       "    <tr>\n",
       "      <th>44</th>\n",
       "      <td>mnist</td>\n",
       "      <td>Hnd</td>\n",
       "      <td>9</td>\n",
       "      <td>5949</td>\n",
       "      <td>0.092314</td>\n",
       "    </tr>\n",
       "  </tbody>\n",
       "</table>\n",
       "</div>"
      ],
      "text/plain": [
       "      origin    group  label  file     ratio\n",
       "0   chars74k  BadImag      1    48  0.000745\n",
       "1   chars74k  BadImag      2    48  0.000745\n",
       "2   chars74k  BadImag      3    22  0.000341\n",
       "3   chars74k  BadImag      4    26  0.000403\n",
       "4   chars74k  BadImag      5    17  0.000264\n",
       "5   chars74k  BadImag      6    20  0.000310\n",
       "6   chars74k  BadImag      7    13  0.000202\n",
       "7   chars74k  BadImag      8    10  0.000155\n",
       "8   chars74k  BadImag      9    37  0.000574\n",
       "9   chars74k      Fnt      1  1016  0.015766\n",
       "10  chars74k      Fnt      2  1016  0.015766\n",
       "11  chars74k      Fnt      3  1016  0.015766\n",
       "12  chars74k      Fnt      4  1016  0.015766\n",
       "13  chars74k      Fnt      5  1016  0.015766\n",
       "14  chars74k      Fnt      6  1016  0.015766\n",
       "15  chars74k      Fnt      7  1016  0.015766\n",
       "16  chars74k      Fnt      8  1016  0.015766\n",
       "17  chars74k      Fnt      9  1016  0.015766\n",
       "18  chars74k  GoodImg      1    77  0.001195\n",
       "19  chars74k  GoodImg      2    70  0.001086\n",
       "20  chars74k  GoodImg      3    50  0.000776\n",
       "21  chars74k  GoodImg      4    47  0.000729\n",
       "22  chars74k  GoodImg      5    64  0.000993\n",
       "23  chars74k  GoodImg      6    64  0.000993\n",
       "24  chars74k  GoodImg      7    48  0.000745\n",
       "25  chars74k  GoodImg      8    32  0.000497\n",
       "26  chars74k  GoodImg      9    34  0.000528\n",
       "27  chars74k      Hnd      1    55  0.000853\n",
       "28  chars74k      Hnd      2    55  0.000853\n",
       "29  chars74k      Hnd      3    55  0.000853\n",
       "30  chars74k      Hnd      4    55  0.000853\n",
       "31  chars74k      Hnd      5    55  0.000853\n",
       "32  chars74k      Hnd      6    55  0.000853\n",
       "33  chars74k      Hnd      7    55  0.000853\n",
       "34  chars74k      Hnd      8    55  0.000853\n",
       "35  chars74k      Hnd      9    55  0.000853\n",
       "36     mnist      Hnd      1  6742  0.104620\n",
       "37     mnist      Hnd      2  5958  0.092454\n",
       "38     mnist      Hnd      3  6131  0.095138\n",
       "39     mnist      Hnd      4  5842  0.090654\n",
       "40     mnist      Hnd      5  5421  0.084121\n",
       "41     mnist      Hnd      6  5918  0.091833\n",
       "42     mnist      Hnd      7  6265  0.097218\n",
       "43     mnist      Hnd      8  5851  0.090793\n",
       "44     mnist      Hnd      9  5949  0.092314"
      ]
     },
     "execution_count": 14,
     "metadata": {},
     "output_type": "execute_result"
    }
   ],
   "source": [
    "df_labels = df.groupby(['origin','group','label'])['file'].count().reset_index()\n",
    "df_labels['ratio'] = df_labels['file'] / df_labels['file'].sum()\n",
    "df_labels"
   ]
  },
  {
   "cell_type": "code",
   "execution_count": 15,
   "metadata": {},
   "outputs": [],
   "source": [
    "df_mnist = df.loc[df['origin']=='mnist']\n",
    "df_chars74k = df.loc[df['origin']=='chars74k']"
   ]
  },
  {
   "cell_type": "markdown",
   "metadata": {},
   "source": [
    "Notice that for the MNIST dataset, the group feature's information is quite insignificant to keep because it has only one category, which is handwritten digits so it is okay to drop the whole column.  \n",
    "\n",
    "The group for the Chars74k set will be kept to use for the parameter 'stratify' later when we split the train and test sets.  \n",
    "\n",
    "Finally, the 'origin' column for both datasets will be dropped afterwards because we only need the location of the files (which will be read and the images be converted into an array of pixels for 'X') and the label (which will be the 'y').  \n",
    "\n",
    "`explanatory variables`: X (array of dimensions: m,n where m is individual data and n is amount of pixels)  \n",
    "`target variable`: y (array of single dimension (m,) where m is label for each individual data)"
   ]
  },
  {
   "cell_type": "code",
   "execution_count": 16,
   "metadata": {},
   "outputs": [
    {
     "name": "stderr",
     "output_type": "stream",
     "text": [
      "/var/folders/qz/5wqlq53516nf38l3j5wtkvmh0000gn/T/ipykernel_49202/2903635121.py:2: SettingWithCopyWarning: \n",
      "A value is trying to be set on a copy of a slice from a DataFrame\n",
      "\n",
      "See the caveats in the documentation: https://pandas.pydata.org/pandas-docs/stable/user_guide/indexing.html#returning-a-view-versus-a-copy\n",
      "  df_mnist.drop(columns='group', inplace=True)\n"
     ]
    },
    {
     "data": {
      "text/html": [
       "<div>\n",
       "<style scoped>\n",
       "    .dataframe tbody tr th:only-of-type {\n",
       "        vertical-align: middle;\n",
       "    }\n",
       "\n",
       "    .dataframe tbody tr th {\n",
       "        vertical-align: top;\n",
       "    }\n",
       "\n",
       "    .dataframe thead th {\n",
       "        text-align: right;\n",
       "    }\n",
       "</style>\n",
       "<table border=\"1\" class=\"dataframe\">\n",
       "  <thead>\n",
       "    <tr style=\"text-align: right;\">\n",
       "      <th></th>\n",
       "      <th>origin</th>\n",
       "      <th>label</th>\n",
       "      <th>file</th>\n",
       "    </tr>\n",
       "  </thead>\n",
       "  <tbody>\n",
       "    <tr>\n",
       "      <th>38628</th>\n",
       "      <td>mnist</td>\n",
       "      <td>1</td>\n",
       "      <td>mnist_png/Hnd/Sample1/3963.png</td>\n",
       "    </tr>\n",
       "    <tr>\n",
       "      <th>37325</th>\n",
       "      <td>mnist</td>\n",
       "      <td>1</td>\n",
       "      <td>mnist_png/Hnd/Sample1/18266.png</td>\n",
       "    </tr>\n",
       "    <tr>\n",
       "      <th>37326</th>\n",
       "      <td>mnist</td>\n",
       "      <td>1</td>\n",
       "      <td>mnist_png/Hnd/Sample1/19346.png</td>\n",
       "    </tr>\n",
       "    <tr>\n",
       "      <th>37327</th>\n",
       "      <td>mnist</td>\n",
       "      <td>1</td>\n",
       "      <td>mnist_png/Hnd/Sample1/21972.png</td>\n",
       "    </tr>\n",
       "    <tr>\n",
       "      <th>37328</th>\n",
       "      <td>mnist</td>\n",
       "      <td>1</td>\n",
       "      <td>mnist_png/Hnd/Sample1/53823.png</td>\n",
       "    </tr>\n",
       "  </tbody>\n",
       "</table>\n",
       "</div>"
      ],
      "text/plain": [
       "      origin  label                             file\n",
       "38628  mnist      1   mnist_png/Hnd/Sample1/3963.png\n",
       "37325  mnist      1  mnist_png/Hnd/Sample1/18266.png\n",
       "37326  mnist      1  mnist_png/Hnd/Sample1/19346.png\n",
       "37327  mnist      1  mnist_png/Hnd/Sample1/21972.png\n",
       "37328  mnist      1  mnist_png/Hnd/Sample1/53823.png"
      ]
     },
     "execution_count": 16,
     "metadata": {},
     "output_type": "execute_result"
    }
   ],
   "source": [
    "try:\n",
    "    df_mnist.drop(columns='group', inplace=True)\n",
    "except KeyError:\n",
    "    print('The column \"group\" has already been dropped.')\n",
    "df_mnist.sort_values('label').head()"
   ]
  },
  {
   "cell_type": "code",
   "execution_count": 17,
   "metadata": {},
   "outputs": [
    {
     "data": {
      "text/html": [
       "<div>\n",
       "<style scoped>\n",
       "    .dataframe tbody tr th:only-of-type {\n",
       "        vertical-align: middle;\n",
       "    }\n",
       "\n",
       "    .dataframe tbody tr th {\n",
       "        vertical-align: top;\n",
       "    }\n",
       "\n",
       "    .dataframe thead th {\n",
       "        text-align: right;\n",
       "    }\n",
       "</style>\n",
       "<table border=\"1\" class=\"dataframe\">\n",
       "  <thead>\n",
       "    <tr style=\"text-align: right;\">\n",
       "      <th></th>\n",
       "      <th>origin</th>\n",
       "      <th>group</th>\n",
       "      <th>label</th>\n",
       "      <th>file</th>\n",
       "    </tr>\n",
       "  </thead>\n",
       "  <tbody>\n",
       "    <tr>\n",
       "      <th>5287</th>\n",
       "      <td>chars74k</td>\n",
       "      <td>Fnt</td>\n",
       "      <td>1</td>\n",
       "      <td>chars74k_png/Fnt/Sample1/img002-00572.png</td>\n",
       "    </tr>\n",
       "    <tr>\n",
       "      <th>5050</th>\n",
       "      <td>chars74k</td>\n",
       "      <td>Fnt</td>\n",
       "      <td>1</td>\n",
       "      <td>chars74k_png/Fnt/Sample1/img002-00786.png</td>\n",
       "    </tr>\n",
       "    <tr>\n",
       "      <th>5051</th>\n",
       "      <td>chars74k</td>\n",
       "      <td>Fnt</td>\n",
       "      <td>1</td>\n",
       "      <td>chars74k_png/Fnt/Sample1/img002-00647.png</td>\n",
       "    </tr>\n",
       "    <tr>\n",
       "      <th>5052</th>\n",
       "      <td>chars74k</td>\n",
       "      <td>Fnt</td>\n",
       "      <td>1</td>\n",
       "      <td>chars74k_png/Fnt/Sample1/img002-00923.png</td>\n",
       "    </tr>\n",
       "    <tr>\n",
       "      <th>5053</th>\n",
       "      <td>chars74k</td>\n",
       "      <td>Fnt</td>\n",
       "      <td>1</td>\n",
       "      <td>chars74k_png/Fnt/Sample1/img002-00251.png</td>\n",
       "    </tr>\n",
       "  </tbody>\n",
       "</table>\n",
       "</div>"
      ],
      "text/plain": [
       "        origin group  label                                       file\n",
       "5287  chars74k   Fnt      1  chars74k_png/Fnt/Sample1/img002-00572.png\n",
       "5050  chars74k   Fnt      1  chars74k_png/Fnt/Sample1/img002-00786.png\n",
       "5051  chars74k   Fnt      1  chars74k_png/Fnt/Sample1/img002-00647.png\n",
       "5052  chars74k   Fnt      1  chars74k_png/Fnt/Sample1/img002-00923.png\n",
       "5053  chars74k   Fnt      1  chars74k_png/Fnt/Sample1/img002-00251.png"
      ]
     },
     "execution_count": 17,
     "metadata": {},
     "output_type": "execute_result"
    }
   ],
   "source": [
    "df_chars74k.sort_values('label').head()"
   ]
  },
  {
   "cell_type": "markdown",
   "metadata": {},
   "source": [
    "Now the data will be separated into X and y then we split the train and test sets with stratified sampling on the labels.\n",
    "\n",
    "Let's start with the MNIST dataset because it is easier to do without the groups.\n",
    "\n",
    "The steps will be:\n",
    "1. work without the origin column as the variable name will hold the dataset's name.\n",
    "2. separate the X and y.\n",
    "3. check the shape to make sure the dimensions are right.\n",
    "4. separate into train and test sets with the stratify parameter being the label feature.\n",
    "5. then drop the label column from X because it was only used for stratification.\n",
    "6. check the shape to make sure the dimensions are right again."
   ]
  },
  {
   "cell_type": "code",
   "execution_count": 18,
   "metadata": {},
   "outputs": [],
   "source": [
    "X_mnist = df_mnist[['file','label']]\n",
    "y_mnist = df_mnist['label']"
   ]
  },
  {
   "cell_type": "code",
   "execution_count": 19,
   "metadata": {},
   "outputs": [
    {
     "name": "stdout",
     "output_type": "stream",
     "text": [
      "X_mnist.shape = (54077, 2)\n",
      "y_mnist.shape = (54077,)\n"
     ]
    }
   ],
   "source": [
    "print(f'{X_mnist.shape = }')\n",
    "print(f'{y_mnist.shape = }')"
   ]
  },
  {
   "cell_type": "code",
   "execution_count": 20,
   "metadata": {},
   "outputs": [
    {
     "name": "stdout",
     "output_type": "stream",
     "text": [
      "X_train_mnist.shape = (48669, 2)\n",
      "y_train_mnist.shape = (48669,)\n",
      "X_test_mnist.shape = (5408, 2)\n",
      "y_test_mnist.shape = (5408,)\n"
     ]
    }
   ],
   "source": [
    "X_train_mnist, X_test_mnist, y_train_mnist, y_test_mnist = train_test_split(\n",
    "    X_mnist, y_mnist, test_size=0.1, stratify=X_mnist['label']\n",
    ")\n",
    "\n",
    "print(f'{X_train_mnist.shape = }')\n",
    "print(f'{y_train_mnist.shape = }')\n",
    "print(f'{X_test_mnist.shape = }')\n",
    "print(f'{y_test_mnist.shape = }')"
   ]
  },
  {
   "cell_type": "markdown",
   "metadata": {},
   "source": [
    "Now lets do the same procedure for the Chars74k dataset.\n",
    "\n",
    "For this dataset first we have to loop into every group and then perform the train test split.\n",
    "\n",
    "The steps will be:\n",
    "1. get hold of the unique group feature values.\n",
    "2. initialize an empty list to get hold of the X_train, X_test, y_train, y_test of each group.\n",
    "3. perform the train test split with the stratify parameter being the label.\n",
    "4. append each of the values to the empty list.\n",
    "5. concatenate all the train test splits of every group.\n",
    "6. check for the shapes to make sure the dimensions are right."
   ]
  },
  {
   "cell_type": "code",
   "execution_count": 21,
   "metadata": {},
   "outputs": [
    {
     "name": "stdout",
     "output_type": "stream",
     "text": [
      "X_train_chars74k.shape = (9327, 2)\n",
      "y_train_chars74k.shape = (9327,)\n",
      "X_test_chars74k.shape = (1039, 2)\n",
      "y_test_chars74k.shape = (1039,)\n"
     ]
    }
   ],
   "source": [
    "df_chars74k_groups = df_chars74k['group'].unique().tolist()\n",
    "X_train_list, X_test_list, y_train_list, y_test_list = [], [], [], []\n",
    "for group in df_chars74k_groups:\n",
    "    df_group = df_chars74k.loc[df['group'] == group]\n",
    "    \n",
    "    X_train_chars74k, X_test_chars74k, y_train_chars74k, y_test_chars74k = train_test_split(\n",
    "        df_group[['file','label']], df_group['label'], test_size=0.1, stratify=df_group['label']\n",
    "    )\n",
    "    X_train_list.append(X_train_chars74k)\n",
    "    X_test_list.append(X_test_chars74k)\n",
    "    y_train_list.append(y_train_chars74k)\n",
    "    y_test_list.append(y_test_chars74k)\n",
    "\n",
    "X_train_chars74k = pd.concat(X_train_list)\n",
    "X_test_chars74k = pd.concat(X_test_list)\n",
    "y_train_chars74k = pd.concat(y_train_list)\n",
    "y_test_chars74k = pd.concat(y_test_list)\n",
    "\n",
    "print(f'{X_train_chars74k.shape = }')\n",
    "print(f'{y_train_chars74k.shape = }')\n",
    "print(f'{X_test_chars74k.shape = }')\n",
    "print(f'{y_test_chars74k.shape = }')"
   ]
  },
  {
   "cell_type": "markdown",
   "metadata": {},
   "source": [
    "Now lets check that the proportion of the groups were done correctly.  \n",
    "\n",
    "Let's see the proportion of groups before and after the train test split. We will do so with only the X train just to save time."
   ]
  },
  {
   "cell_type": "code",
   "execution_count": 22,
   "metadata": {},
   "outputs": [
    {
     "data": {
      "text/plain": [
       "(   label  file     ratio\n",
       " 0      1  6742  0.124674\n",
       " 1      2  5958  0.110176\n",
       " 2      3  6131  0.113375\n",
       " 3      4  5842  0.108031\n",
       " 4      5  5421  0.100246\n",
       " 5      6  5918  0.109437\n",
       " 6      7  6265  0.115853\n",
       " 7      8  5851  0.108198\n",
       " 8      9  5949  0.110010,\n",
       "    label  file     ratio\n",
       " 0      1   674  0.124630\n",
       " 1      2   596  0.110207\n",
       " 2      3   613  0.113351\n",
       " 3      4   584  0.107988\n",
       " 4      5   542  0.100222\n",
       " 5      6   592  0.109467\n",
       " 6      7   627  0.115939\n",
       " 7      8   585  0.108173\n",
       " 8      9   595  0.110022)"
      ]
     },
     "execution_count": 22,
     "metadata": {},
     "output_type": "execute_result"
    }
   ],
   "source": [
    "df_mnist_labels = df_mnist.groupby('label')['file'].count().reset_index()\n",
    "df_mnist_labels['ratio'] = df_mnist_labels['file'] / df_mnist_labels['file'].sum()\n",
    "df_mnist_labels\n",
    "\n",
    "X_test_mnist_labels = X_test_mnist.groupby('label')['file'].count().reset_index()\n",
    "X_test_mnist_labels['ratio'] = X_test_mnist_labels['file'] / X_test_mnist_labels['file'].sum()\n",
    "X_test_mnist_labels\n",
    "\n",
    "df_mnist_labels, X_test_mnist_labels"
   ]
  },
  {
   "cell_type": "code",
   "execution_count": 23,
   "metadata": {},
   "outputs": [
    {
     "data": {
      "text/plain": [
       "(   label  file     ratio\n",
       " 0      1  1196  0.115377\n",
       " 1      2  1189  0.114702\n",
       " 2      3  1143  0.110264\n",
       " 3      4  1144  0.110361\n",
       " 4      5  1152  0.111133\n",
       " 5      6  1155  0.111422\n",
       " 6      7  1132  0.109203\n",
       " 7      8  1113  0.107370\n",
       " 8      9  1142  0.110168,\n",
       "    label  file     ratio\n",
       " 0      1   121  0.116458\n",
       " 1      2   118  0.113571\n",
       " 2      3   115  0.110683\n",
       " 3      4   114  0.109721\n",
       " 4      5   117  0.112608\n",
       " 5      6   115  0.110683\n",
       " 6      7   114  0.109721\n",
       " 7      8   111  0.106833\n",
       " 8      9   114  0.109721)"
      ]
     },
     "execution_count": 23,
     "metadata": {},
     "output_type": "execute_result"
    }
   ],
   "source": [
    "df_chars74k_labels = df_chars74k.groupby('label')['file'].count().reset_index()\n",
    "df_chars74k_labels['ratio'] = df_chars74k_labels['file'] / df_chars74k_labels['file'].sum()\n",
    "df_chars74k_labels\n",
    "\n",
    "X_test_chars74k_labels = X_test_chars74k.groupby('label')['file'].count().reset_index()\n",
    "X_test_chars74k_labels['ratio'] = X_test_chars74k_labels['file'] / X_test_chars74k_labels['file'].sum()\n",
    "X_test_chars74k_labels\n",
    "\n",
    "df_chars74k_labels, X_test_chars74k_labels"
   ]
  },
  {
   "cell_type": "markdown",
   "metadata": {},
   "source": [
    "Now we can drop the label columns for the X in both datasets"
   ]
  },
  {
   "cell_type": "code",
   "execution_count": 24,
   "metadata": {},
   "outputs": [],
   "source": [
    "X_train_mnist.drop(columns='label', inplace=True)\n",
    "X_test_mnist.drop(columns='label', inplace=True)\n",
    "X_train_chars74k.drop(columns='label', inplace=True)\n",
    "X_test_chars74k.drop(columns='label', inplace=True)"
   ]
  },
  {
   "cell_type": "code",
   "execution_count": 25,
   "metadata": {},
   "outputs": [
    {
     "name": "stdout",
     "output_type": "stream",
     "text": [
      "X_train_chars74k.shape = (9327, 1)\n",
      "y_train_chars74k.shape = (9327,)\n",
      "X_test_chars74k.shape = (1039, 1)\n",
      "y_test_chars74k.shape = (1039,)\n",
      "X_train_mnist.shape = (48669, 1)\n",
      "y_train_mnist.shape = (48669,)\n",
      "X_test_mnist.shape = (5408, 1)\n",
      "y_test_mnist.shape = (5408,)\n"
     ]
    }
   ],
   "source": [
    "print(f'{X_train_chars74k.shape = }')\n",
    "print(f'{y_train_chars74k.shape = }')\n",
    "print(f'{X_test_chars74k.shape = }')\n",
    "print(f'{y_test_chars74k.shape = }')\n",
    "print(f'{X_train_mnist.shape = }')\n",
    "print(f'{y_train_mnist.shape = }')\n",
    "print(f'{X_test_mnist.shape = }')\n",
    "print(f'{y_test_mnist.shape = }')"
   ]
  },
  {
   "cell_type": "markdown",
   "metadata": {},
   "source": [
    "Now we are ready to concatenate both datasets into one X_train, X_test, y_train, y_test"
   ]
  },
  {
   "cell_type": "code",
   "execution_count": 26,
   "metadata": {},
   "outputs": [],
   "source": [
    "X_train = pd.concat([X_train_chars74k, X_train_mnist])\n",
    "X_test = pd.concat([X_test_chars74k, X_test_mnist])\n",
    "y_train = pd.concat([y_train_chars74k, y_train_mnist])\n",
    "y_test = pd.concat([y_test_chars74k, y_test_mnist])\n"
   ]
  },
  {
   "cell_type": "markdown",
   "metadata": {},
   "source": [
    "As we can see, the X holds the value of file path to the image and so we need to be able to get the images in those file paths, convert those images into pixel values and then make each pixel value be one feature or column in the new X.\n",
    "\n",
    "Until now we were exploring and cleaning data from different datasets with different structures but now that we have combined and we are ready for preprocessing the data for machine learning, we will be using functions later to be saved in the utils.py."
   ]
  },
  {
   "cell_type": "code",
   "execution_count": 27,
   "metadata": {},
   "outputs": [],
   "source": [
    "import cv2\n",
    "import numpy as np\n",
    "def df_to_pixels_array(df:pd.DataFrame, label:str, resize_dim:tuple, rel_path) -> np.array:\n",
    "    \"\"\"\n",
    "    Takes a column from a pandas dataframe that has the values for the file path of images.\n",
    "    Then it reads the files, converts them to grayscale and flattens the pixel values\n",
    "    to finally return a numpy array of those values.\n",
    "\n",
    "    Parameters:\n",
    "    df_filepath (dataframe): The dataframe to process.\n",
    "    label (string): The name of the column containing the file paths\n",
    "    resize (tuple): The dimensions to resize the image before flattening.\n",
    "    rel_path (string): The relative file path before the value in the dataframe column.\n",
    "\n",
    "\n",
    "    Returns:\n",
    "    array: (m, n) numpy array of grayscale pixel values.\n",
    "            m -> # of images\n",
    "            n -> product of resize tuple provided\n",
    "    \"\"\"\n",
    "    i = len(df[label])\n",
    "    m = resize_dim[0]\n",
    "    n = resize_dim[1]\n",
    "    df_array = np.zeros((i, m, n), dtype=np.uint8)\n",
    "    for index, file_path in enumerate(df[label]):\n",
    "        file_path = rel_path + file_path\n",
    "        image = cv2.imread(file_path, cv2.IMREAD_GRAYSCALE)\n",
    "        image = cv2.resize(image, resize_dim)\n",
    "        if image is None:\n",
    "            print(\"Error: Unable to read the image.\")\n",
    "            print(file_path)\n",
    "        else:\n",
    "            df_array[index] = image\n",
    "    return df_array"
   ]
  },
  {
   "cell_type": "code",
   "execution_count": 28,
   "metadata": {},
   "outputs": [],
   "source": [
    "rel_path = './images/numbers/'\n",
    "label = 'file'\n",
    "resize_dim = (32,32)\n",
    "X_train = df_to_pixels_array(X_train, label, resize_dim, rel_path)\n",
    "X_test = df_to_pixels_array(X_test, label, resize_dim, rel_path)\n"
   ]
  },
  {
   "cell_type": "markdown",
   "metadata": {},
   "source": [
    "Let's check that the dimensions and datatypes are correct for X_train and X_test."
   ]
  },
  {
   "cell_type": "code",
   "execution_count": 29,
   "metadata": {},
   "outputs": [
    {
     "name": "stdout",
     "output_type": "stream",
     "text": [
      "X_train.shape = (57996, 32, 32)\n",
      "type(X_train) = <class 'numpy.ndarray'>\n",
      "X_test.shape = (6447, 32, 32)\n",
      "type(X_test) = <class 'numpy.ndarray'>\n"
     ]
    }
   ],
   "source": [
    "print(f'{X_train.shape = }')\n",
    "print(f'{type(X_train) = }')\n",
    "print(f'{X_test.shape = }')\n",
    "print(f'{type(X_test) = }')"
   ]
  },
  {
   "cell_type": "markdown",
   "metadata": {},
   "source": [
    "Now it is time for further preprocessing before we train the Convolutional Neural Network for it to be able to predict numbers.  \n",
    "Specifically, we are going to normalize the data. Right now, the range of each pixel is from 0, 255 with 0 being black and 255 white. By normalizing the data the range will be from 0~1 conserving the ratio, and this will help the model to converge more efficiently."
   ]
  },
  {
   "cell_type": "code",
   "execution_count": 30,
   "metadata": {},
   "outputs": [],
   "source": [
    "X_train = tf.keras.utils.normalize(X_train, axis=1)\n",
    "X_train = np.array(X_train).reshape(-1, resize_dim[0], resize_dim[1], 1)\n",
    "x_test = tf.keras.utils.normalize(X_test, axis=1)\n",
    "X_test = np.array(X_test).reshape(-1, resize_dim[0], resize_dim[1], 1)"
   ]
  },
  {
   "cell_type": "markdown",
   "metadata": {},
   "source": [
    "Then we build the arquitecture for the CNN and compile the model."
   ]
  },
  {
   "cell_type": "code",
   "execution_count": 31,
   "metadata": {},
   "outputs": [
    {
     "name": "stderr",
     "output_type": "stream",
     "text": [
      "/Users/robertopark/Documents/code-projects/datascience-projects/sudoku-solver-app/.venv/lib/python3.11/site-packages/keras/src/layers/convolutional/base_conv.py:99: UserWarning: Do not pass an `input_shape`/`input_dim` argument to a layer. When using Sequential models, prefer using an `Input(shape)` object as the first layer in the model instead.\n",
      "  super().__init__(\n"
     ]
    },
    {
     "data": {
      "text/html": [
       "<pre style=\"white-space:pre;overflow-x:auto;line-height:normal;font-family:Menlo,'DejaVu Sans Mono',consolas,'Courier New',monospace\"><span style=\"font-weight: bold\">Model: \"sequential\"</span>\n",
       "</pre>\n"
      ],
      "text/plain": [
       "\u001b[1mModel: \"sequential\"\u001b[0m\n"
      ]
     },
     "metadata": {},
     "output_type": "display_data"
    },
    {
     "data": {
      "text/html": [
       "<pre style=\"white-space:pre;overflow-x:auto;line-height:normal;font-family:Menlo,'DejaVu Sans Mono',consolas,'Courier New',monospace\">┏━━━━━━━━━━━━━━━━━━━━━━━━━━━━━━━━━┳━━━━━━━━━━━━━━━━━━━━━━━━┳━━━━━━━━━━━━━━━┓\n",
       "┃<span style=\"font-weight: bold\"> Layer (type)                    </span>┃<span style=\"font-weight: bold\"> Output Shape           </span>┃<span style=\"font-weight: bold\">       Param # </span>┃\n",
       "┡━━━━━━━━━━━━━━━━━━━━━━━━━━━━━━━━━╇━━━━━━━━━━━━━━━━━━━━━━━━╇━━━━━━━━━━━━━━━┩\n",
       "│ conv2d (<span style=\"color: #0087ff; text-decoration-color: #0087ff\">Conv2D</span>)                 │ (<span style=\"color: #00d7ff; text-decoration-color: #00d7ff\">None</span>, <span style=\"color: #00af00; text-decoration-color: #00af00\">30</span>, <span style=\"color: #00af00; text-decoration-color: #00af00\">30</span>, <span style=\"color: #00af00; text-decoration-color: #00af00\">32</span>)     │           <span style=\"color: #00af00; text-decoration-color: #00af00\">320</span> │\n",
       "├─────────────────────────────────┼────────────────────────┼───────────────┤\n",
       "│ max_pooling2d (<span style=\"color: #0087ff; text-decoration-color: #0087ff\">MaxPooling2D</span>)    │ (<span style=\"color: #00d7ff; text-decoration-color: #00d7ff\">None</span>, <span style=\"color: #00af00; text-decoration-color: #00af00\">15</span>, <span style=\"color: #00af00; text-decoration-color: #00af00\">15</span>, <span style=\"color: #00af00; text-decoration-color: #00af00\">32</span>)     │             <span style=\"color: #00af00; text-decoration-color: #00af00\">0</span> │\n",
       "├─────────────────────────────────┼────────────────────────┼───────────────┤\n",
       "│ conv2d_1 (<span style=\"color: #0087ff; text-decoration-color: #0087ff\">Conv2D</span>)               │ (<span style=\"color: #00d7ff; text-decoration-color: #00d7ff\">None</span>, <span style=\"color: #00af00; text-decoration-color: #00af00\">13</span>, <span style=\"color: #00af00; text-decoration-color: #00af00\">13</span>, <span style=\"color: #00af00; text-decoration-color: #00af00\">64</span>)     │        <span style=\"color: #00af00; text-decoration-color: #00af00\">18,496</span> │\n",
       "├─────────────────────────────────┼────────────────────────┼───────────────┤\n",
       "│ max_pooling2d_1 (<span style=\"color: #0087ff; text-decoration-color: #0087ff\">MaxPooling2D</span>)  │ (<span style=\"color: #00d7ff; text-decoration-color: #00d7ff\">None</span>, <span style=\"color: #00af00; text-decoration-color: #00af00\">6</span>, <span style=\"color: #00af00; text-decoration-color: #00af00\">6</span>, <span style=\"color: #00af00; text-decoration-color: #00af00\">64</span>)       │             <span style=\"color: #00af00; text-decoration-color: #00af00\">0</span> │\n",
       "├─────────────────────────────────┼────────────────────────┼───────────────┤\n",
       "│ conv2d_2 (<span style=\"color: #0087ff; text-decoration-color: #0087ff\">Conv2D</span>)               │ (<span style=\"color: #00d7ff; text-decoration-color: #00d7ff\">None</span>, <span style=\"color: #00af00; text-decoration-color: #00af00\">4</span>, <span style=\"color: #00af00; text-decoration-color: #00af00\">4</span>, <span style=\"color: #00af00; text-decoration-color: #00af00\">64</span>)       │        <span style=\"color: #00af00; text-decoration-color: #00af00\">36,928</span> │\n",
       "├─────────────────────────────────┼────────────────────────┼───────────────┤\n",
       "│ dropout (<span style=\"color: #0087ff; text-decoration-color: #0087ff\">Dropout</span>)               │ (<span style=\"color: #00d7ff; text-decoration-color: #00d7ff\">None</span>, <span style=\"color: #00af00; text-decoration-color: #00af00\">4</span>, <span style=\"color: #00af00; text-decoration-color: #00af00\">4</span>, <span style=\"color: #00af00; text-decoration-color: #00af00\">64</span>)       │             <span style=\"color: #00af00; text-decoration-color: #00af00\">0</span> │\n",
       "├─────────────────────────────────┼────────────────────────┼───────────────┤\n",
       "│ flatten (<span style=\"color: #0087ff; text-decoration-color: #0087ff\">Flatten</span>)               │ (<span style=\"color: #00d7ff; text-decoration-color: #00d7ff\">None</span>, <span style=\"color: #00af00; text-decoration-color: #00af00\">1024</span>)           │             <span style=\"color: #00af00; text-decoration-color: #00af00\">0</span> │\n",
       "├─────────────────────────────────┼────────────────────────┼───────────────┤\n",
       "│ dense (<span style=\"color: #0087ff; text-decoration-color: #0087ff\">Dense</span>)                   │ (<span style=\"color: #00d7ff; text-decoration-color: #00d7ff\">None</span>, <span style=\"color: #00af00; text-decoration-color: #00af00\">64</span>)             │        <span style=\"color: #00af00; text-decoration-color: #00af00\">65,600</span> │\n",
       "├─────────────────────────────────┼────────────────────────┼───────────────┤\n",
       "│ dense_1 (<span style=\"color: #0087ff; text-decoration-color: #0087ff\">Dense</span>)                 │ (<span style=\"color: #00d7ff; text-decoration-color: #00d7ff\">None</span>, <span style=\"color: #00af00; text-decoration-color: #00af00\">64</span>)             │         <span style=\"color: #00af00; text-decoration-color: #00af00\">4,160</span> │\n",
       "├─────────────────────────────────┼────────────────────────┼───────────────┤\n",
       "│ dropout_1 (<span style=\"color: #0087ff; text-decoration-color: #0087ff\">Dropout</span>)             │ (<span style=\"color: #00d7ff; text-decoration-color: #00d7ff\">None</span>, <span style=\"color: #00af00; text-decoration-color: #00af00\">64</span>)             │             <span style=\"color: #00af00; text-decoration-color: #00af00\">0</span> │\n",
       "├─────────────────────────────────┼────────────────────────┼───────────────┤\n",
       "│ dense_2 (<span style=\"color: #0087ff; text-decoration-color: #0087ff\">Dense</span>)                 │ (<span style=\"color: #00d7ff; text-decoration-color: #00d7ff\">None</span>, <span style=\"color: #00af00; text-decoration-color: #00af00\">9</span>)              │           <span style=\"color: #00af00; text-decoration-color: #00af00\">585</span> │\n",
       "└─────────────────────────────────┴────────────────────────┴───────────────┘\n",
       "</pre>\n"
      ],
      "text/plain": [
       "┏━━━━━━━━━━━━━━━━━━━━━━━━━━━━━━━━━┳━━━━━━━━━━━━━━━━━━━━━━━━┳━━━━━━━━━━━━━━━┓\n",
       "┃\u001b[1m \u001b[0m\u001b[1mLayer (type)                   \u001b[0m\u001b[1m \u001b[0m┃\u001b[1m \u001b[0m\u001b[1mOutput Shape          \u001b[0m\u001b[1m \u001b[0m┃\u001b[1m \u001b[0m\u001b[1m      Param #\u001b[0m\u001b[1m \u001b[0m┃\n",
       "┡━━━━━━━━━━━━━━━━━━━━━━━━━━━━━━━━━╇━━━━━━━━━━━━━━━━━━━━━━━━╇━━━━━━━━━━━━━━━┩\n",
       "│ conv2d (\u001b[38;5;33mConv2D\u001b[0m)                 │ (\u001b[38;5;45mNone\u001b[0m, \u001b[38;5;34m30\u001b[0m, \u001b[38;5;34m30\u001b[0m, \u001b[38;5;34m32\u001b[0m)     │           \u001b[38;5;34m320\u001b[0m │\n",
       "├─────────────────────────────────┼────────────────────────┼───────────────┤\n",
       "│ max_pooling2d (\u001b[38;5;33mMaxPooling2D\u001b[0m)    │ (\u001b[38;5;45mNone\u001b[0m, \u001b[38;5;34m15\u001b[0m, \u001b[38;5;34m15\u001b[0m, \u001b[38;5;34m32\u001b[0m)     │             \u001b[38;5;34m0\u001b[0m │\n",
       "├─────────────────────────────────┼────────────────────────┼───────────────┤\n",
       "│ conv2d_1 (\u001b[38;5;33mConv2D\u001b[0m)               │ (\u001b[38;5;45mNone\u001b[0m, \u001b[38;5;34m13\u001b[0m, \u001b[38;5;34m13\u001b[0m, \u001b[38;5;34m64\u001b[0m)     │        \u001b[38;5;34m18,496\u001b[0m │\n",
       "├─────────────────────────────────┼────────────────────────┼───────────────┤\n",
       "│ max_pooling2d_1 (\u001b[38;5;33mMaxPooling2D\u001b[0m)  │ (\u001b[38;5;45mNone\u001b[0m, \u001b[38;5;34m6\u001b[0m, \u001b[38;5;34m6\u001b[0m, \u001b[38;5;34m64\u001b[0m)       │             \u001b[38;5;34m0\u001b[0m │\n",
       "├─────────────────────────────────┼────────────────────────┼───────────────┤\n",
       "│ conv2d_2 (\u001b[38;5;33mConv2D\u001b[0m)               │ (\u001b[38;5;45mNone\u001b[0m, \u001b[38;5;34m4\u001b[0m, \u001b[38;5;34m4\u001b[0m, \u001b[38;5;34m64\u001b[0m)       │        \u001b[38;5;34m36,928\u001b[0m │\n",
       "├─────────────────────────────────┼────────────────────────┼───────────────┤\n",
       "│ dropout (\u001b[38;5;33mDropout\u001b[0m)               │ (\u001b[38;5;45mNone\u001b[0m, \u001b[38;5;34m4\u001b[0m, \u001b[38;5;34m4\u001b[0m, \u001b[38;5;34m64\u001b[0m)       │             \u001b[38;5;34m0\u001b[0m │\n",
       "├─────────────────────────────────┼────────────────────────┼───────────────┤\n",
       "│ flatten (\u001b[38;5;33mFlatten\u001b[0m)               │ (\u001b[38;5;45mNone\u001b[0m, \u001b[38;5;34m1024\u001b[0m)           │             \u001b[38;5;34m0\u001b[0m │\n",
       "├─────────────────────────────────┼────────────────────────┼───────────────┤\n",
       "│ dense (\u001b[38;5;33mDense\u001b[0m)                   │ (\u001b[38;5;45mNone\u001b[0m, \u001b[38;5;34m64\u001b[0m)             │        \u001b[38;5;34m65,600\u001b[0m │\n",
       "├─────────────────────────────────┼────────────────────────┼───────────────┤\n",
       "│ dense_1 (\u001b[38;5;33mDense\u001b[0m)                 │ (\u001b[38;5;45mNone\u001b[0m, \u001b[38;5;34m64\u001b[0m)             │         \u001b[38;5;34m4,160\u001b[0m │\n",
       "├─────────────────────────────────┼────────────────────────┼───────────────┤\n",
       "│ dropout_1 (\u001b[38;5;33mDropout\u001b[0m)             │ (\u001b[38;5;45mNone\u001b[0m, \u001b[38;5;34m64\u001b[0m)             │             \u001b[38;5;34m0\u001b[0m │\n",
       "├─────────────────────────────────┼────────────────────────┼───────────────┤\n",
       "│ dense_2 (\u001b[38;5;33mDense\u001b[0m)                 │ (\u001b[38;5;45mNone\u001b[0m, \u001b[38;5;34m9\u001b[0m)              │           \u001b[38;5;34m585\u001b[0m │\n",
       "└─────────────────────────────────┴────────────────────────┴───────────────┘\n"
      ]
     },
     "metadata": {},
     "output_type": "display_data"
    },
    {
     "data": {
      "text/html": [
       "<pre style=\"white-space:pre;overflow-x:auto;line-height:normal;font-family:Menlo,'DejaVu Sans Mono',consolas,'Courier New',monospace\"><span style=\"font-weight: bold\"> Total params: </span><span style=\"color: #00af00; text-decoration-color: #00af00\">126,089</span> (492.54 KB)\n",
       "</pre>\n"
      ],
      "text/plain": [
       "\u001b[1m Total params: \u001b[0m\u001b[38;5;34m126,089\u001b[0m (492.54 KB)\n"
      ]
     },
     "metadata": {},
     "output_type": "display_data"
    },
    {
     "data": {
      "text/html": [
       "<pre style=\"white-space:pre;overflow-x:auto;line-height:normal;font-family:Menlo,'DejaVu Sans Mono',consolas,'Courier New',monospace\"><span style=\"font-weight: bold\"> Trainable params: </span><span style=\"color: #00af00; text-decoration-color: #00af00\">126,089</span> (492.54 KB)\n",
       "</pre>\n"
      ],
      "text/plain": [
       "\u001b[1m Trainable params: \u001b[0m\u001b[38;5;34m126,089\u001b[0m (492.54 KB)\n"
      ]
     },
     "metadata": {},
     "output_type": "display_data"
    },
    {
     "data": {
      "text/html": [
       "<pre style=\"white-space:pre;overflow-x:auto;line-height:normal;font-family:Menlo,'DejaVu Sans Mono',consolas,'Courier New',monospace\"><span style=\"font-weight: bold\"> Non-trainable params: </span><span style=\"color: #00af00; text-decoration-color: #00af00\">0</span> (0.00 B)\n",
       "</pre>\n"
      ],
      "text/plain": [
       "\u001b[1m Non-trainable params: \u001b[0m\u001b[38;5;34m0\u001b[0m (0.00 B)\n"
      ]
     },
     "metadata": {},
     "output_type": "display_data"
    }
   ],
   "source": [
    "model = Sequential(\n",
    "    [\n",
    "        Conv2D(32,(3,3),input_shape=(X_train.shape[1:]), activation='relu'),\n",
    "        MaxPooling2D((2,2)),\n",
    "        Conv2D(64, (3,3), activation='relu'),\n",
    "        MaxPooling2D((2,2)),\n",
    "        Conv2D(64, (3,3), activation='relu'),\n",
    "        Dropout(0.5),\n",
    "\n",
    "        Flatten(),\n",
    "        Dense(64,activation='relu'),\n",
    "        Dense(64,activation='relu'),\n",
    "        Dropout(0.5),\n",
    "        Dense(9, activation='softmax')\n",
    "    ]\n",
    ")\n",
    "\n",
    "model.compile(\n",
    "    optimizer='adam', \n",
    "    loss='sparse_categorical_crossentropy', \n",
    "    metrics=['accuracy']\n",
    ")\n",
    "\n",
    "model.summary()"
   ]
  },
  {
   "cell_type": "markdown",
   "metadata": {},
   "source": [
    "Compile the CNN model."
   ]
  },
  {
   "cell_type": "markdown",
   "metadata": {},
   "source": [
    "Fit the model to the train data, and subtract 1 from y_train as the outputlayer contains 1~9 but counting starts from 0."
   ]
  },
  {
   "cell_type": "code",
   "execution_count": 32,
   "metadata": {},
   "outputs": [
    {
     "name": "stdout",
     "output_type": "stream",
     "text": [
      "Epoch 1/5\n",
      "\u001b[1m1450/1450\u001b[0m \u001b[32m━━━━━━━━━━━━━━━━━━━━\u001b[0m\u001b[37m\u001b[0m \u001b[1m15s\u001b[0m 10ms/step - accuracy: 0.6742 - loss: 0.9248 - val_accuracy: 0.9733 - val_loss: 0.0893\n",
      "Epoch 2/5\n",
      "\u001b[1m1450/1450\u001b[0m \u001b[32m━━━━━━━━━━━━━━━━━━━━\u001b[0m\u001b[37m\u001b[0m \u001b[1m15s\u001b[0m 11ms/step - accuracy: 0.9494 - loss: 0.1761 - val_accuracy: 0.9824 - val_loss: 0.0554\n",
      "Epoch 3/5\n",
      "\u001b[1m1450/1450\u001b[0m \u001b[32m━━━━━━━━━━━━━━━━━━━━\u001b[0m\u001b[37m\u001b[0m \u001b[1m16s\u001b[0m 11ms/step - accuracy: 0.9620 - loss: 0.1328 - val_accuracy: 0.9859 - val_loss: 0.0462\n",
      "Epoch 4/5\n",
      "\u001b[1m1450/1450\u001b[0m \u001b[32m━━━━━━━━━━━━━━━━━━━━\u001b[0m\u001b[37m\u001b[0m \u001b[1m16s\u001b[0m 11ms/step - accuracy: 0.9678 - loss: 0.1128 - val_accuracy: 0.9882 - val_loss: 0.0377\n",
      "Epoch 5/5\n",
      "\u001b[1m1450/1450\u001b[0m \u001b[32m━━━━━━━━━━━━━━━━━━━━\u001b[0m\u001b[37m\u001b[0m \u001b[1m17s\u001b[0m 12ms/step - accuracy: 0.9738 - loss: 0.0908 - val_accuracy: 0.9878 - val_loss: 0.0416\n"
     ]
    },
    {
     "data": {
      "text/plain": [
       "<keras.src.callbacks.history.History at 0x3384ca750>"
      ]
     },
     "execution_count": 32,
     "metadata": {},
     "output_type": "execute_result"
    }
   ],
   "source": [
    "model.fit(X_train, y_train - 1, epochs=5, validation_split=0.2, batch_size=32, verbose='auto')"
   ]
  },
  {
   "cell_type": "markdown",
   "metadata": {},
   "source": [
    "Evaluate the model to see how it did on the test data."
   ]
  },
  {
   "cell_type": "code",
   "execution_count": 33,
   "metadata": {},
   "outputs": [
    {
     "name": "stdout",
     "output_type": "stream",
     "text": [
      "\u001b[1m202/202\u001b[0m \u001b[32m━━━━━━━━━━━━━━━━━━━━\u001b[0m\u001b[37m\u001b[0m \u001b[1m1s\u001b[0m 3ms/step - accuracy: 0.9199 - loss: 62.6623\n",
      "loss = 37.67240905761719\n",
      "accuracy = 0.9570342898368835\n"
     ]
    }
   ],
   "source": [
    "loss, accuracy = model.evaluate(X_test, y_test - 1)\n",
    "print(f'{loss = }')\n",
    "print(f'{accuracy = }')"
   ]
  },
  {
   "cell_type": "code",
   "execution_count": 34,
   "metadata": {},
   "outputs": [],
   "source": [
    "def image_to_pixels(file_path:str, resize_dim:tuple):\n",
    "    image = cv2.imread(file_path, cv2.IMREAD_GRAYSCALE)\n",
    "    image = cv2.resize(image, resize_dim)\n",
    "    return image"
   ]
  },
  {
   "cell_type": "code",
   "execution_count": 35,
   "metadata": {},
   "outputs": [],
   "source": [
    "def preprocess_pixels(image:np.array, resize_dim:tuple) -> np.array:\n",
    "    image = tf.keras.utils.normalize(image, axis=1)\n",
    "    image = np.array(image).reshape(-1, resize_dim[0], resize_dim[1], 1)\n",
    "    return image"
   ]
  },
  {
   "cell_type": "code",
   "execution_count": 50,
   "metadata": {},
   "outputs": [
    {
     "name": "stdout",
     "output_type": "stream",
     "text": [
      "\u001b[1m1/1\u001b[0m \u001b[32m━━━━━━━━━━━━━━━━━━━━\u001b[0m\u001b[37m\u001b[0m \u001b[1m0s\u001b[0m 12ms/step\n",
      "prediction.round(3) = array([[0.915, 0.006, 0.004, 0.014, 0.002, 0.002, 0.029, 0.01 , 0.018]],\n",
      "      dtype=float32)\n",
      "prediction_label = 1\n",
      "predicted_probability = 0.91501975\n"
     ]
    }
   ],
   "source": [
    "# predict a toy image of 1\n",
    "toy_image = cv2.imread('./images/sudoku-toy/2022-us-sudoku-grand-prix-round.png', cv2.IMREAD_GRAYSCALE)\n",
    "toy_image = toy_image[26:70, 29:70]\n",
    "toy_image = cv2.resize(toy_image,resize_dim)\n",
    "# plt.imshow(toy_image)\n",
    "# cv2.imshow('Image', toy_image)\n",
    "# cv2.waitKey(0)\n",
    "# cv2.destroyAllWindows()\n",
    "toy_image = preprocess_pixels(toy_image, resize_dim)\n",
    "prediction = model.predict(toy_image)\n",
    "prediction_label = prediction.argmax() + 1\n",
    "predicted_probability = prediction.max()\n",
    "print(f'{prediction.round(3) = }')\n",
    "print(f'{prediction_label = }')\n",
    "print(f'{predicted_probability = }')"
   ]
  },
  {
   "cell_type": "code",
   "execution_count": 48,
   "metadata": {},
   "outputs": [
    {
     "name": "stdout",
     "output_type": "stream",
     "text": [
      "\u001b[1m1/1\u001b[0m \u001b[32m━━━━━━━━━━━━━━━━━━━━\u001b[0m\u001b[37m\u001b[0m \u001b[1m0s\u001b[0m 13ms/step\n",
      "prediction.round(3) = array([[0.715, 0.037, 0.013, 0.097, 0.01 , 0.012, 0.045, 0.024, 0.047]],\n",
      "      dtype=float32)\n",
      "prediction_label = 1\n",
      "predicted_probability = 0.7147962\n"
     ]
    }
   ],
   "source": [
    "# predict a toy image of blank\n",
    "toy_image2 = np.full((32, 32), 255, dtype=np.uint8)\n",
    "toy_image2 = preprocess_pixels(toy_image2, resize_dim)\n",
    "prediction = model.predict(toy_image2)\n",
    "prediction_label = prediction.argmax() + 1\n",
    "predicted_probability = prediction.max()\n",
    "print(f'{prediction.round(3) = }')\n",
    "print(f'{prediction_label = }')\n",
    "print(f'{predicted_probability = }')"
   ]
  },
  {
   "cell_type": "code",
   "execution_count": 40,
   "metadata": {},
   "outputs": [
    {
     "name": "stderr",
     "output_type": "stream",
     "text": [
      "WARNING:absl:You are saving your model as an HDF5 file via `model.save()` or `keras.saving.save_model(model)`. This file format is considered legacy. We recommend using instead the native Keras format, e.g. `model.save('my_model.keras')` or `keras.saving.save_model(model, 'my_model.keras')`. \n"
     ]
    }
   ],
   "source": [
    "model.save('./models/cnn_1.h5')"
   ]
  },
  {
   "cell_type": "code",
   "execution_count": null,
   "metadata": {},
   "outputs": [],
   "source": []
  }
 ],
 "metadata": {
  "kernelspec": {
   "display_name": ".venv",
   "language": "python",
   "name": "python3"
  },
  "language_info": {
   "codemirror_mode": {
    "name": "ipython",
    "version": 3
   },
   "file_extension": ".py",
   "mimetype": "text/x-python",
   "name": "python",
   "nbconvert_exporter": "python",
   "pygments_lexer": "ipython3",
   "version": "3.11.0"
  }
 },
 "nbformat": 4,
 "nbformat_minor": 2
}
