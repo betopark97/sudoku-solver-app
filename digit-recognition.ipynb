{
 "cells": [
  {
   "cell_type": "markdown",
   "metadata": {},
   "source": [
    "# Import libraries"
   ]
  },
  {
   "cell_type": "code",
   "execution_count": 60,
   "metadata": {},
   "outputs": [],
   "source": [
    "# Directory, File Management\n",
    "import os\n",
    "from dotenv import load_dotenv\n",
    "# Data Exploration\n",
    "import numpy as np\n",
    "import pandas as pd\n",
    "import matplotlib.pyplot as plt\n",
    "import seaborn as sns\n",
    "# Data Tracking\n",
    "import mlflow\n",
    "# Utils\n",
    "from utils import image_to_pixels, preprocess_pixels\n",
    "# Data Preprocessing, Evaluation\n",
    "import cv2\n",
    "from sklearn.model_selection import train_test_split\n",
    "from sklearn.preprocessing import MinMaxScaler\n",
    "from sklearn.metrics import accuracy_score, confusion_matrix, f1_score\n",
    "# ML Models\n",
    "from xgboost import XGBClassifier\n",
    "import tensorflow as tf\n",
    "from tensorflow.keras.models import Sequential\n",
    "from tensorflow.keras.layers import Conv2D, MaxPooling2D, Flatten, Dense, Dropout, BatchNormalization\n",
    "from tensorflow.keras.preprocessing.image import ImageDataGenerator, img_to_array, load_img\n",
    "from tensorflow.keras.optimizers import Adam\n",
    "from tensorflow.keras.callbacks import EarlyStopping"
   ]
  },
  {
   "cell_type": "code",
   "execution_count": 61,
   "metadata": {},
   "outputs": [
    {
     "data": {
      "text/plain": [
       "<Experiment: artifact_location='mlflow-artifacts:/14f18a74de1c40b088c464a0d3a55c83', creation_time=1713456323645, experiment_id='0', last_update_time=1713456323645, lifecycle_stage='active', name='sudoku-digit-recognition', tags={}>"
      ]
     },
     "execution_count": 61,
     "metadata": {},
     "output_type": "execute_result"
    }
   ],
   "source": [
    "load_dotenv()\n",
    "mlflow.set_tracking_uri(os.environ['MLFLOW_TRACKING_URI'])\n",
    "mlflow.set_experiment('sudoku-digit-recognition')"
   ]
  },
  {
   "cell_type": "markdown",
   "metadata": {},
   "source": [
    "# Explore data"
   ]
  },
  {
   "cell_type": "markdown",
   "metadata": {},
   "source": [
    "We have two datasets:\n",
    "1. Chars74k (only Digits)\n",
    "2. TMNIST (Typeface MNIST)\n",
    "\n",
    "I have modified both datasets as following:  \n",
    "- The Chars74k dataset contains a total of 9,144 images 1,016 images for each digit from 1~9.\n",
    "- The TMNIST dataset contains a total of 26,910 images 2,990 images for each digit from 1~9.\n",
    "\n",
    "Modifications to the datasets:  \n",
    "- I have erased all the 0 digit images and pixel rows in both datasets for various reasons. We have to take into account that there is no need for our digit recognition model to recognize the digit '0' because we are creating a model specialized for Sudoku. As a reminder, Sudoku is a puzzle that involves only the digits from 1-9.  \n",
    "- Also, I dropped the 'names' column from the TMNIST dataset as the font-family doesn't provide much information for classification.\n",
    "- I have only collected datasets such that the amount of images are equal for each of the digits because on my first attempt to doing this project, I noticed that during the softmax layer to classify a digit, when the model is unsure of the digit, it will be biased to predict the number with the most frequency in the training set. For my first attempt the distribution of the dataset had been unbalanced with having more 1's than any other digit and so for digits that look similar such as 7 or 9 when the model was unsure it would predict 1.\n",
    "- finally, I inverted the pixel values from the TMNIST because I realized that the font is white and the background is black. So I subtracted the pixel values from 255.\n",
    "\n",
    "p.s. Also, I am not including handwritten digits from datasets such as MNIST in this project because those digit formats are irrelevant to a Sudoku puzzle, which is mostly printed or made with computer fonts.\n",
    "\n",
    "Some advantages of doing so:\n",
    "1. by focusing on the digits that are relevant to the task, the model will be more specialized and better suited for the intended application.\n",
    "2. it simplifies the training process and reduces the complexity of the model, leading to a faster training time and potentially better performance on the digits relevant to the task.\n",
    "3. it helps balance the distribution of digits in the dataset preventing the model from being biased towards the majority class (1-9) and improve its ability to generalize.\n",
    "4. reduce some bias and noise to the model."
   ]
  },
  {
   "cell_type": "markdown",
   "metadata": {},
   "source": [
    "Now we will try to match all the images from the chars74k dataset to a pandas dataframe like the TMNIST_Data.csv so that we can concatenate them in the same format."
   ]
  },
  {
   "cell_type": "code",
   "execution_count": 62,
   "metadata": {},
   "outputs": [],
   "source": [
    "# directory_path = './images/chars74k'\n",
    "\n",
    "# row_list = []\n",
    "# for folder in os.listdir(directory_path)[1:]:\n",
    "#     subfolder = os.path.join(directory_path, folder)\n",
    "#     for file in os.listdir(subfolder):\n",
    "#         file = os.path.join(subfolder, file)\n",
    "#         image = cv2.imread(file, cv2.IMREAD_GRAYSCALE)\n",
    "#         image = cv2.resize(image, (28,28))\n",
    "#         flatten_image = image.flatten()\n",
    "#         data = {'labels': int(folder), **{f'{i+1}': value for i, value in enumerate(flatten_image)}}\n",
    "#         row_list.append(data)\n",
    "# df_chars74k = pd.DataFrame(row_list)"
   ]
  },
  {
   "cell_type": "markdown",
   "metadata": {},
   "source": [
    "Let's save the dataset as a csv."
   ]
  },
  {
   "cell_type": "code",
   "execution_count": 63,
   "metadata": {},
   "outputs": [],
   "source": [
    "# df_chars74k.to_csv('./data/chars74k.csv', index=False)"
   ]
  },
  {
   "cell_type": "markdown",
   "metadata": {},
   "source": [
    "Let's see a random image from both datasets and see that the pixel sizes and the grayscale match."
   ]
  },
  {
   "cell_type": "code",
   "execution_count": 64,
   "metadata": {},
   "outputs": [
    {
     "data": {
      "image/png": "[encoded data removed]",
      "text/plain": [
       "<Figure size 640x480 with 2 Axes>"
      ]
     },
     "metadata": {},
     "output_type": "display_data"
    }
   ],
   "source": [
    "df_tmnist = pd.read_csv('./data/tmnist.csv')\n",
    "tmnist_2d = np.reshape(df_tmnist.iloc[1,1:], (28,28)).astype(np.uint8)\n",
    "df_chars74k = pd.read_csv('./data/chars74k.csv')\n",
    "chars74k_2d = np.reshape(df_chars74k.iloc[1,1:], (28,28)).astype(np.uint8)\n",
    "\n",
    "plt.subplot(1,2,1)\n",
    "plt.imshow(tmnist_2d, cmap='gray')\n",
    "plt.title('TMNIST')\n",
    "plt.subplot(1,2,2)\n",
    "plt.imshow(chars74k_2d, cmap='gray')\n",
    "plt.title('Charks74k')\n",
    "\n",
    "plt.show()"
   ]
  },
  {
   "cell_type": "markdown",
   "metadata": {},
   "source": [
    "Now let's vertically concatenate both datasets into one dataframe."
   ]
  },
  {
   "cell_type": "code",
   "execution_count": 65,
   "metadata": {},
   "outputs": [
    {
     "data": {
      "text/html": [
       "<div>\n",
       "<style scoped>\n",
       "    .dataframe tbody tr th:only-of-type {\n",
       "        vertical-align: middle;\n",
       "    }\n",
       "\n",
       "    .dataframe tbody tr th {\n",
       "        vertical-align: top;\n",
       "    }\n",
       "\n",
       "    .dataframe thead th {\n",
       "        text-align: right;\n",
       "    }\n",
       "</style>\n",
       "<table border=\"1\" class=\"dataframe\">\n",
       "  <thead>\n",
       "    <tr style=\"text-align: right;\">\n",
       "      <th></th>\n",
       "      <th>labels</th>\n",
       "      <th>1</th>\n",
       "      <th>2</th>\n",
       "      <th>3</th>\n",
       "      <th>4</th>\n",
       "      <th>5</th>\n",
       "      <th>6</th>\n",
       "      <th>7</th>\n",
       "      <th>8</th>\n",
       "      <th>9</th>\n",
       "      <th>...</th>\n",
       "      <th>775</th>\n",
       "      <th>776</th>\n",
       "      <th>777</th>\n",
       "      <th>778</th>\n",
       "      <th>779</th>\n",
       "      <th>780</th>\n",
       "      <th>781</th>\n",
       "      <th>782</th>\n",
       "      <th>783</th>\n",
       "      <th>784</th>\n",
       "    </tr>\n",
       "  </thead>\n",
       "  <tbody>\n",
       "    <tr>\n",
       "      <th>0</th>\n",
       "      <td>2</td>\n",
       "      <td>255</td>\n",
       "      <td>255</td>\n",
       "      <td>255</td>\n",
       "      <td>255</td>\n",
       "      <td>255</td>\n",
       "      <td>255</td>\n",
       "      <td>255</td>\n",
       "      <td>255</td>\n",
       "      <td>255</td>\n",
       "      <td>...</td>\n",
       "      <td>255</td>\n",
       "      <td>255</td>\n",
       "      <td>255</td>\n",
       "      <td>255</td>\n",
       "      <td>255</td>\n",
       "      <td>255</td>\n",
       "      <td>255</td>\n",
       "      <td>255</td>\n",
       "      <td>255</td>\n",
       "      <td>255</td>\n",
       "    </tr>\n",
       "    <tr>\n",
       "      <th>1</th>\n",
       "      <td>8</td>\n",
       "      <td>255</td>\n",
       "      <td>255</td>\n",
       "      <td>255</td>\n",
       "      <td>255</td>\n",
       "      <td>255</td>\n",
       "      <td>255</td>\n",
       "      <td>255</td>\n",
       "      <td>255</td>\n",
       "      <td>255</td>\n",
       "      <td>...</td>\n",
       "      <td>255</td>\n",
       "      <td>255</td>\n",
       "      <td>255</td>\n",
       "      <td>255</td>\n",
       "      <td>255</td>\n",
       "      <td>255</td>\n",
       "      <td>255</td>\n",
       "      <td>255</td>\n",
       "      <td>255</td>\n",
       "      <td>255</td>\n",
       "    </tr>\n",
       "    <tr>\n",
       "      <th>2</th>\n",
       "      <td>4</td>\n",
       "      <td>255</td>\n",
       "      <td>255</td>\n",
       "      <td>255</td>\n",
       "      <td>255</td>\n",
       "      <td>255</td>\n",
       "      <td>255</td>\n",
       "      <td>255</td>\n",
       "      <td>255</td>\n",
       "      <td>255</td>\n",
       "      <td>...</td>\n",
       "      <td>255</td>\n",
       "      <td>255</td>\n",
       "      <td>255</td>\n",
       "      <td>255</td>\n",
       "      <td>255</td>\n",
       "      <td>255</td>\n",
       "      <td>255</td>\n",
       "      <td>255</td>\n",
       "      <td>255</td>\n",
       "      <td>255</td>\n",
       "    </tr>\n",
       "    <tr>\n",
       "      <th>3</th>\n",
       "      <td>3</td>\n",
       "      <td>255</td>\n",
       "      <td>255</td>\n",
       "      <td>255</td>\n",
       "      <td>255</td>\n",
       "      <td>255</td>\n",
       "      <td>255</td>\n",
       "      <td>255</td>\n",
       "      <td>255</td>\n",
       "      <td>255</td>\n",
       "      <td>...</td>\n",
       "      <td>255</td>\n",
       "      <td>255</td>\n",
       "      <td>255</td>\n",
       "      <td>255</td>\n",
       "      <td>255</td>\n",
       "      <td>255</td>\n",
       "      <td>255</td>\n",
       "      <td>255</td>\n",
       "      <td>255</td>\n",
       "      <td>255</td>\n",
       "    </tr>\n",
       "    <tr>\n",
       "      <th>4</th>\n",
       "      <td>1</td>\n",
       "      <td>255</td>\n",
       "      <td>255</td>\n",
       "      <td>255</td>\n",
       "      <td>255</td>\n",
       "      <td>255</td>\n",
       "      <td>255</td>\n",
       "      <td>255</td>\n",
       "      <td>255</td>\n",
       "      <td>255</td>\n",
       "      <td>...</td>\n",
       "      <td>255</td>\n",
       "      <td>255</td>\n",
       "      <td>255</td>\n",
       "      <td>255</td>\n",
       "      <td>255</td>\n",
       "      <td>255</td>\n",
       "      <td>255</td>\n",
       "      <td>255</td>\n",
       "      <td>255</td>\n",
       "      <td>255</td>\n",
       "    </tr>\n",
       "    <tr>\n",
       "      <th>...</th>\n",
       "      <td>...</td>\n",
       "      <td>...</td>\n",
       "      <td>...</td>\n",
       "      <td>...</td>\n",
       "      <td>...</td>\n",
       "      <td>...</td>\n",
       "      <td>...</td>\n",
       "      <td>...</td>\n",
       "      <td>...</td>\n",
       "      <td>...</td>\n",
       "      <td>...</td>\n",
       "      <td>...</td>\n",
       "      <td>...</td>\n",
       "      <td>...</td>\n",
       "      <td>...</td>\n",
       "      <td>...</td>\n",
       "      <td>...</td>\n",
       "      <td>...</td>\n",
       "      <td>...</td>\n",
       "      <td>...</td>\n",
       "      <td>...</td>\n",
       "    </tr>\n",
       "    <tr>\n",
       "      <th>9139</th>\n",
       "      <td>5</td>\n",
       "      <td>255</td>\n",
       "      <td>255</td>\n",
       "      <td>255</td>\n",
       "      <td>255</td>\n",
       "      <td>255</td>\n",
       "      <td>255</td>\n",
       "      <td>255</td>\n",
       "      <td>255</td>\n",
       "      <td>255</td>\n",
       "      <td>...</td>\n",
       "      <td>255</td>\n",
       "      <td>255</td>\n",
       "      <td>255</td>\n",
       "      <td>255</td>\n",
       "      <td>255</td>\n",
       "      <td>255</td>\n",
       "      <td>255</td>\n",
       "      <td>255</td>\n",
       "      <td>255</td>\n",
       "      <td>255</td>\n",
       "    </tr>\n",
       "    <tr>\n",
       "      <th>9140</th>\n",
       "      <td>5</td>\n",
       "      <td>255</td>\n",
       "      <td>255</td>\n",
       "      <td>255</td>\n",
       "      <td>255</td>\n",
       "      <td>255</td>\n",
       "      <td>255</td>\n",
       "      <td>255</td>\n",
       "      <td>255</td>\n",
       "      <td>255</td>\n",
       "      <td>...</td>\n",
       "      <td>255</td>\n",
       "      <td>255</td>\n",
       "      <td>255</td>\n",
       "      <td>255</td>\n",
       "      <td>255</td>\n",
       "      <td>255</td>\n",
       "      <td>255</td>\n",
       "      <td>255</td>\n",
       "      <td>255</td>\n",
       "      <td>255</td>\n",
       "    </tr>\n",
       "    <tr>\n",
       "      <th>9141</th>\n",
       "      <td>5</td>\n",
       "      <td>255</td>\n",
       "      <td>255</td>\n",
       "      <td>255</td>\n",
       "      <td>255</td>\n",
       "      <td>255</td>\n",
       "      <td>255</td>\n",
       "      <td>255</td>\n",
       "      <td>255</td>\n",
       "      <td>255</td>\n",
       "      <td>...</td>\n",
       "      <td>255</td>\n",
       "      <td>255</td>\n",
       "      <td>255</td>\n",
       "      <td>255</td>\n",
       "      <td>255</td>\n",
       "      <td>255</td>\n",
       "      <td>255</td>\n",
       "      <td>255</td>\n",
       "      <td>255</td>\n",
       "      <td>255</td>\n",
       "    </tr>\n",
       "    <tr>\n",
       "      <th>9142</th>\n",
       "      <td>5</td>\n",
       "      <td>255</td>\n",
       "      <td>255</td>\n",
       "      <td>255</td>\n",
       "      <td>255</td>\n",
       "      <td>255</td>\n",
       "      <td>255</td>\n",
       "      <td>255</td>\n",
       "      <td>255</td>\n",
       "      <td>255</td>\n",
       "      <td>...</td>\n",
       "      <td>255</td>\n",
       "      <td>255</td>\n",
       "      <td>255</td>\n",
       "      <td>255</td>\n",
       "      <td>255</td>\n",
       "      <td>255</td>\n",
       "      <td>255</td>\n",
       "      <td>255</td>\n",
       "      <td>255</td>\n",
       "      <td>255</td>\n",
       "    </tr>\n",
       "    <tr>\n",
       "      <th>9143</th>\n",
       "      <td>5</td>\n",
       "      <td>255</td>\n",
       "      <td>255</td>\n",
       "      <td>255</td>\n",
       "      <td>255</td>\n",
       "      <td>255</td>\n",
       "      <td>255</td>\n",
       "      <td>255</td>\n",
       "      <td>255</td>\n",
       "      <td>255</td>\n",
       "      <td>...</td>\n",
       "      <td>255</td>\n",
       "      <td>255</td>\n",
       "      <td>255</td>\n",
       "      <td>255</td>\n",
       "      <td>255</td>\n",
       "      <td>255</td>\n",
       "      <td>255</td>\n",
       "      <td>255</td>\n",
       "      <td>255</td>\n",
       "      <td>255</td>\n",
       "    </tr>\n",
       "  </tbody>\n",
       "</table>\n",
       "<p>36054 rows × 785 columns</p>\n",
       "</div>"
      ],
      "text/plain": [
       "      labels    1    2    3    4    5    6    7    8    9  ...  775  776  777  \\\n",
       "0          2  255  255  255  255  255  255  255  255  255  ...  255  255  255   \n",
       "1          8  255  255  255  255  255  255  255  255  255  ...  255  255  255   \n",
       "2          4  255  255  255  255  255  255  255  255  255  ...  255  255  255   \n",
       "3          3  255  255  255  255  255  255  255  255  255  ...  255  255  255   \n",
       "4          1  255  255  255  255  255  255  255  255  255  ...  255  255  255   \n",
       "...      ...  ...  ...  ...  ...  ...  ...  ...  ...  ...  ...  ...  ...  ...   \n",
       "9139       5  255  255  255  255  255  255  255  255  255  ...  255  255  255   \n",
       "9140       5  255  255  255  255  255  255  255  255  255  ...  255  255  255   \n",
       "9141       5  255  255  255  255  255  255  255  255  255  ...  255  255  255   \n",
       "9142       5  255  255  255  255  255  255  255  255  255  ...  255  255  255   \n",
       "9143       5  255  255  255  255  255  255  255  255  255  ...  255  255  255   \n",
       "\n",
       "      778  779  780  781  782  783  784  \n",
       "0     255  255  255  255  255  255  255  \n",
       "1     255  255  255  255  255  255  255  \n",
       "2     255  255  255  255  255  255  255  \n",
       "3     255  255  255  255  255  255  255  \n",
       "4     255  255  255  255  255  255  255  \n",
       "...   ...  ...  ...  ...  ...  ...  ...  \n",
       "9139  255  255  255  255  255  255  255  \n",
       "9140  255  255  255  255  255  255  255  \n",
       "9141  255  255  255  255  255  255  255  \n",
       "9142  255  255  255  255  255  255  255  \n",
       "9143  255  255  255  255  255  255  255  \n",
       "\n",
       "[36054 rows x 785 columns]"
      ]
     },
     "execution_count": 65,
     "metadata": {},
     "output_type": "execute_result"
    }
   ],
   "source": [
    "df = pd.concat([df_tmnist, df_chars74k], axis=0)\n",
    "df"
   ]
  },
  {
   "cell_type": "markdown",
   "metadata": {},
   "source": [
    "Now let's check once again that the distribution is uniform."
   ]
  },
  {
   "cell_type": "code",
   "execution_count": 66,
   "metadata": {},
   "outputs": [],
   "source": [
    "# df['labels'].value_counts().sort_index()"
   ]
  },
  {
   "cell_type": "code",
   "execution_count": 67,
   "metadata": {},
   "outputs": [],
   "source": [
    "# plt.bar(df['labels'].value_counts().index, df['labels'].value_counts().values)\n",
    "# plt.title('Label Distribution')\n",
    "# plt.xlabel('Label')\n",
    "# plt.ylabel('Counts')\n",
    "# plt.xticks(df['labels'].value_counts().index)\n",
    "# plt.show()"
   ]
  },
  {
   "cell_type": "markdown",
   "metadata": {},
   "source": [
    "Now we have to make augmentation of blank images and we will make the model predict them as 0. I will take screenshots of blank boxes with a little bit of the border left in the image and make enough augmented images to match the distribution of the dataset."
   ]
  },
  {
   "cell_type": "code",
   "execution_count": 68,
   "metadata": {},
   "outputs": [],
   "source": [
    "# image_folder = \"./images/blank\"\n",
    "# image_paths = [os.path.join(image_folder, img) for img in os.listdir(image_folder) if img.endswith(\".png\")]\n",
    "\n",
    "# datagen = ImageDataGenerator(\n",
    "#     rotation_range=0,  # Disable random rotation\n",
    "#     horizontal_flip=True,\n",
    "#     vertical_flip=True)\n",
    "\n",
    "# num_images = len(image_paths)\n",
    "# images_per_image = 4006 // num_images\n",
    "# remainder = 4006 % num_images\n",
    "\n",
    "# output_folder = \"./images/blank_aug\"\n",
    "# if not os.path.exists(output_folder):\n",
    "#     os.makedirs(output_folder)\n",
    "\n",
    "# for image_path in image_paths:\n",
    "#     img = load_img(image_path)\n",
    "#     x = img_to_array(img)\n",
    "\n",
    "#     i = 0\n",
    "#     num_augmentations = images_per_image\n",
    "#     if remainder > 0:\n",
    "#         num_augmentations += 1\n",
    "#         remainder -= 1\n",
    "\n",
    "#     while i < num_augmentations:\n",
    "#         for angle in [90, 180, 270]:\n",
    "#             x_aug = datagen.apply_transform(x, {'theta': angle})\n",
    "#             x_aug = x_aug.reshape((1,) + x_aug.shape)  # Reshape to (1, height, width, channels)\n",
    "#             for batch in datagen.flow(x_aug, batch_size=1, save_to_dir=output_folder, save_prefix='aug', save_format='png'):\n",
    "#                 i += 1\n",
    "#                 if i >= num_augmentations:\n",
    "#                     break"
   ]
  },
  {
   "cell_type": "markdown",
   "metadata": {},
   "source": [
    "Now we will repeat the same process as the Chars74k dataset and make these augmented blank images into a pandas dataframe with labels 0 and 784 columns with the pixel values in grayscale."
   ]
  },
  {
   "cell_type": "code",
   "execution_count": 69,
   "metadata": {},
   "outputs": [],
   "source": [
    "# directory_path = './images/blank_aug'\n",
    "\n",
    "# row_list = []\n",
    "# for file in os.listdir(directory_path):\n",
    "#     file = os.path.join(directory_path, file)\n",
    "#     image = cv2.imread(file, cv2.IMREAD_GRAYSCALE)\n",
    "#     image = cv2.resize(image, (28,28))\n",
    "#     flatten_image = image.flatten()\n",
    "#     data = {'labels': 0, **{f'{i+1}': value for i, value in enumerate(flatten_image)}}\n",
    "#     row_list.append(data)\n",
    "# df_blank = pd.DataFrame(row_list)\n",
    "# df_blank"
   ]
  },
  {
   "cell_type": "markdown",
   "metadata": {},
   "source": [
    "After checking on some of the images there were some that were completely black for some unknown reason so we will track all of the images that are completely black and revert them to white blank images."
   ]
  },
  {
   "cell_type": "code",
   "execution_count": 70,
   "metadata": {},
   "outputs": [],
   "source": [
    "# df_blank_0s = (df_blank.iloc[:, 1:] == 0).all(axis=1)\n",
    "\n",
    "# df_blank.loc[df_blank_0s, df_blank.columns[1:]] = 255"
   ]
  },
  {
   "cell_type": "code",
   "execution_count": 71,
   "metadata": {},
   "outputs": [],
   "source": [
    "# df_blank"
   ]
  },
  {
   "cell_type": "markdown",
   "metadata": {},
   "source": [
    "Now let's concatenate it to the main dataset."
   ]
  },
  {
   "cell_type": "code",
   "execution_count": 72,
   "metadata": {},
   "outputs": [],
   "source": [
    "# df = pd.concat([df, df_blank], axis=0)\n",
    "# df"
   ]
  },
  {
   "cell_type": "markdown",
   "metadata": {},
   "source": [
    "Let's check the distribution once again."
   ]
  },
  {
   "cell_type": "code",
   "execution_count": 73,
   "metadata": {},
   "outputs": [],
   "source": [
    "# plt.bar(df['labels'].value_counts().index, df['labels'].value_counts().values)\n",
    "# plt.title('Label Distribution')\n",
    "# plt.xlabel('Label')\n",
    "# plt.ylabel('Counts')\n",
    "# plt.xticks(df['labels'].value_counts().index)\n",
    "# plt.show()"
   ]
  },
  {
   "cell_type": "markdown",
   "metadata": {},
   "source": [
    "The augmentation worked and the 0 labels have a lower distribution than the other labels, but there isn't a lot of features in blank images so this seems okay. It seems to be really hard to for the tensorflow.keras.processing.image DataGenerator to work with the blank images.\n",
    "\n",
    "Now we save the concatenated data so that from now on we can work with the full dataset csv and can comment out all of the process above."
   ]
  },
  {
   "cell_type": "code",
   "execution_count": 74,
   "metadata": {},
   "outputs": [],
   "source": [
    "# df.to_csv('./data/digit_recognition.csv', index=False)\n",
    "# df"
   ]
  },
  {
   "cell_type": "markdown",
   "metadata": {},
   "source": [
    "# Split Data into Train, Validation, Test Sets"
   ]
  },
  {
   "cell_type": "code",
   "execution_count": 89,
   "metadata": {},
   "outputs": [
    {
     "data": {
      "text/html": [
       "<div>\n",
       "<style scoped>\n",
       "    .dataframe tbody tr th:only-of-type {\n",
       "        vertical-align: middle;\n",
       "    }\n",
       "\n",
       "    .dataframe tbody tr th {\n",
       "        vertical-align: top;\n",
       "    }\n",
       "\n",
       "    .dataframe thead th {\n",
       "        text-align: right;\n",
       "    }\n",
       "</style>\n",
       "<table border=\"1\" class=\"dataframe\">\n",
       "  <thead>\n",
       "    <tr style=\"text-align: right;\">\n",
       "      <th></th>\n",
       "      <th>labels</th>\n",
       "      <th>1</th>\n",
       "      <th>2</th>\n",
       "      <th>3</th>\n",
       "      <th>4</th>\n",
       "      <th>5</th>\n",
       "      <th>6</th>\n",
       "      <th>7</th>\n",
       "      <th>8</th>\n",
       "      <th>9</th>\n",
       "      <th>...</th>\n",
       "      <th>775</th>\n",
       "      <th>776</th>\n",
       "      <th>777</th>\n",
       "      <th>778</th>\n",
       "      <th>779</th>\n",
       "      <th>780</th>\n",
       "      <th>781</th>\n",
       "      <th>782</th>\n",
       "      <th>783</th>\n",
       "      <th>784</th>\n",
       "    </tr>\n",
       "  </thead>\n",
       "  <tbody>\n",
       "    <tr>\n",
       "      <th>0</th>\n",
       "      <td>2</td>\n",
       "      <td>255</td>\n",
       "      <td>255</td>\n",
       "      <td>255</td>\n",
       "      <td>255</td>\n",
       "      <td>255</td>\n",
       "      <td>255</td>\n",
       "      <td>255</td>\n",
       "      <td>255</td>\n",
       "      <td>255</td>\n",
       "      <td>...</td>\n",
       "      <td>255</td>\n",
       "      <td>255</td>\n",
       "      <td>255</td>\n",
       "      <td>255</td>\n",
       "      <td>255</td>\n",
       "      <td>255</td>\n",
       "      <td>255</td>\n",
       "      <td>255</td>\n",
       "      <td>255</td>\n",
       "      <td>255</td>\n",
       "    </tr>\n",
       "    <tr>\n",
       "      <th>1</th>\n",
       "      <td>8</td>\n",
       "      <td>255</td>\n",
       "      <td>255</td>\n",
       "      <td>255</td>\n",
       "      <td>255</td>\n",
       "      <td>255</td>\n",
       "      <td>255</td>\n",
       "      <td>255</td>\n",
       "      <td>255</td>\n",
       "      <td>255</td>\n",
       "      <td>...</td>\n",
       "      <td>255</td>\n",
       "      <td>255</td>\n",
       "      <td>255</td>\n",
       "      <td>255</td>\n",
       "      <td>255</td>\n",
       "      <td>255</td>\n",
       "      <td>255</td>\n",
       "      <td>255</td>\n",
       "      <td>255</td>\n",
       "      <td>255</td>\n",
       "    </tr>\n",
       "    <tr>\n",
       "      <th>2</th>\n",
       "      <td>4</td>\n",
       "      <td>255</td>\n",
       "      <td>255</td>\n",
       "      <td>255</td>\n",
       "      <td>255</td>\n",
       "      <td>255</td>\n",
       "      <td>255</td>\n",
       "      <td>255</td>\n",
       "      <td>255</td>\n",
       "      <td>255</td>\n",
       "      <td>...</td>\n",
       "      <td>255</td>\n",
       "      <td>255</td>\n",
       "      <td>255</td>\n",
       "      <td>255</td>\n",
       "      <td>255</td>\n",
       "      <td>255</td>\n",
       "      <td>255</td>\n",
       "      <td>255</td>\n",
       "      <td>255</td>\n",
       "      <td>255</td>\n",
       "    </tr>\n",
       "    <tr>\n",
       "      <th>3</th>\n",
       "      <td>3</td>\n",
       "      <td>255</td>\n",
       "      <td>255</td>\n",
       "      <td>255</td>\n",
       "      <td>255</td>\n",
       "      <td>255</td>\n",
       "      <td>255</td>\n",
       "      <td>255</td>\n",
       "      <td>255</td>\n",
       "      <td>255</td>\n",
       "      <td>...</td>\n",
       "      <td>255</td>\n",
       "      <td>255</td>\n",
       "      <td>255</td>\n",
       "      <td>255</td>\n",
       "      <td>255</td>\n",
       "      <td>255</td>\n",
       "      <td>255</td>\n",
       "      <td>255</td>\n",
       "      <td>255</td>\n",
       "      <td>255</td>\n",
       "    </tr>\n",
       "    <tr>\n",
       "      <th>4</th>\n",
       "      <td>1</td>\n",
       "      <td>255</td>\n",
       "      <td>255</td>\n",
       "      <td>255</td>\n",
       "      <td>255</td>\n",
       "      <td>255</td>\n",
       "      <td>255</td>\n",
       "      <td>255</td>\n",
       "      <td>255</td>\n",
       "      <td>255</td>\n",
       "      <td>...</td>\n",
       "      <td>255</td>\n",
       "      <td>255</td>\n",
       "      <td>255</td>\n",
       "      <td>255</td>\n",
       "      <td>255</td>\n",
       "      <td>255</td>\n",
       "      <td>255</td>\n",
       "      <td>255</td>\n",
       "      <td>255</td>\n",
       "      <td>255</td>\n",
       "    </tr>\n",
       "    <tr>\n",
       "      <th>...</th>\n",
       "      <td>...</td>\n",
       "      <td>...</td>\n",
       "      <td>...</td>\n",
       "      <td>...</td>\n",
       "      <td>...</td>\n",
       "      <td>...</td>\n",
       "      <td>...</td>\n",
       "      <td>...</td>\n",
       "      <td>...</td>\n",
       "      <td>...</td>\n",
       "      <td>...</td>\n",
       "      <td>...</td>\n",
       "      <td>...</td>\n",
       "      <td>...</td>\n",
       "      <td>...</td>\n",
       "      <td>...</td>\n",
       "      <td>...</td>\n",
       "      <td>...</td>\n",
       "      <td>...</td>\n",
       "      <td>...</td>\n",
       "      <td>...</td>\n",
       "    </tr>\n",
       "    <tr>\n",
       "      <th>39373</th>\n",
       "      <td>0</td>\n",
       "      <td>15</td>\n",
       "      <td>15</td>\n",
       "      <td>15</td>\n",
       "      <td>15</td>\n",
       "      <td>15</td>\n",
       "      <td>15</td>\n",
       "      <td>15</td>\n",
       "      <td>15</td>\n",
       "      <td>15</td>\n",
       "      <td>...</td>\n",
       "      <td>255</td>\n",
       "      <td>255</td>\n",
       "      <td>255</td>\n",
       "      <td>255</td>\n",
       "      <td>255</td>\n",
       "      <td>253</td>\n",
       "      <td>252</td>\n",
       "      <td>36</td>\n",
       "      <td>16</td>\n",
       "      <td>21</td>\n",
       "    </tr>\n",
       "    <tr>\n",
       "      <th>39374</th>\n",
       "      <td>0</td>\n",
       "      <td>0</td>\n",
       "      <td>0</td>\n",
       "      <td>0</td>\n",
       "      <td>0</td>\n",
       "      <td>0</td>\n",
       "      <td>0</td>\n",
       "      <td>0</td>\n",
       "      <td>0</td>\n",
       "      <td>0</td>\n",
       "      <td>...</td>\n",
       "      <td>0</td>\n",
       "      <td>0</td>\n",
       "      <td>0</td>\n",
       "      <td>0</td>\n",
       "      <td>0</td>\n",
       "      <td>0</td>\n",
       "      <td>0</td>\n",
       "      <td>0</td>\n",
       "      <td>0</td>\n",
       "      <td>0</td>\n",
       "    </tr>\n",
       "    <tr>\n",
       "      <th>39375</th>\n",
       "      <td>0</td>\n",
       "      <td>0</td>\n",
       "      <td>0</td>\n",
       "      <td>0</td>\n",
       "      <td>0</td>\n",
       "      <td>0</td>\n",
       "      <td>0</td>\n",
       "      <td>0</td>\n",
       "      <td>0</td>\n",
       "      <td>0</td>\n",
       "      <td>...</td>\n",
       "      <td>0</td>\n",
       "      <td>0</td>\n",
       "      <td>0</td>\n",
       "      <td>0</td>\n",
       "      <td>0</td>\n",
       "      <td>0</td>\n",
       "      <td>0</td>\n",
       "      <td>0</td>\n",
       "      <td>0</td>\n",
       "      <td>0</td>\n",
       "    </tr>\n",
       "    <tr>\n",
       "      <th>39376</th>\n",
       "      <td>0</td>\n",
       "      <td>7</td>\n",
       "      <td>34</td>\n",
       "      <td>34</td>\n",
       "      <td>34</td>\n",
       "      <td>34</td>\n",
       "      <td>34</td>\n",
       "      <td>34</td>\n",
       "      <td>34</td>\n",
       "      <td>34</td>\n",
       "      <td>...</td>\n",
       "      <td>255</td>\n",
       "      <td>255</td>\n",
       "      <td>253</td>\n",
       "      <td>253</td>\n",
       "      <td>253</td>\n",
       "      <td>253</td>\n",
       "      <td>253</td>\n",
       "      <td>253</td>\n",
       "      <td>253</td>\n",
       "      <td>255</td>\n",
       "    </tr>\n",
       "    <tr>\n",
       "      <th>39377</th>\n",
       "      <td>0</td>\n",
       "      <td>19</td>\n",
       "      <td>255</td>\n",
       "      <td>255</td>\n",
       "      <td>255</td>\n",
       "      <td>255</td>\n",
       "      <td>255</td>\n",
       "      <td>255</td>\n",
       "      <td>255</td>\n",
       "      <td>255</td>\n",
       "      <td>...</td>\n",
       "      <td>34</td>\n",
       "      <td>34</td>\n",
       "      <td>33</td>\n",
       "      <td>33</td>\n",
       "      <td>33</td>\n",
       "      <td>33</td>\n",
       "      <td>33</td>\n",
       "      <td>33</td>\n",
       "      <td>33</td>\n",
       "      <td>33</td>\n",
       "    </tr>\n",
       "  </tbody>\n",
       "</table>\n",
       "<p>39378 rows × 785 columns</p>\n",
       "</div>"
      ],
      "text/plain": [
       "       labels    1    2    3    4    5    6    7    8    9  ...  775  776  \\\n",
       "0           2  255  255  255  255  255  255  255  255  255  ...  255  255   \n",
       "1           8  255  255  255  255  255  255  255  255  255  ...  255  255   \n",
       "2           4  255  255  255  255  255  255  255  255  255  ...  255  255   \n",
       "3           3  255  255  255  255  255  255  255  255  255  ...  255  255   \n",
       "4           1  255  255  255  255  255  255  255  255  255  ...  255  255   \n",
       "...       ...  ...  ...  ...  ...  ...  ...  ...  ...  ...  ...  ...  ...   \n",
       "39373       0   15   15   15   15   15   15   15   15   15  ...  255  255   \n",
       "39374       0    0    0    0    0    0    0    0    0    0  ...    0    0   \n",
       "39375       0    0    0    0    0    0    0    0    0    0  ...    0    0   \n",
       "39376       0    7   34   34   34   34   34   34   34   34  ...  255  255   \n",
       "39377       0   19  255  255  255  255  255  255  255  255  ...   34   34   \n",
       "\n",
       "       777  778  779  780  781  782  783  784  \n",
       "0      255  255  255  255  255  255  255  255  \n",
       "1      255  255  255  255  255  255  255  255  \n",
       "2      255  255  255  255  255  255  255  255  \n",
       "3      255  255  255  255  255  255  255  255  \n",
       "4      255  255  255  255  255  255  255  255  \n",
       "...    ...  ...  ...  ...  ...  ...  ...  ...  \n",
       "39373  255  255  255  253  252   36   16   21  \n",
       "39374    0    0    0    0    0    0    0    0  \n",
       "39375    0    0    0    0    0    0    0    0  \n",
       "39376  253  253  253  253  253  253  253  255  \n",
       "39377   33   33   33   33   33   33   33   33  \n",
       "\n",
       "[39378 rows x 785 columns]"
      ]
     },
     "execution_count": 89,
     "metadata": {},
     "output_type": "execute_result"
    }
   ],
   "source": [
    "df = pd.read_csv('./data/digit_recognition.csv')\n",
    "# df = df.loc[df['labels']!=0]\n",
    "df"
   ]
  },
  {
   "cell_type": "markdown",
   "metadata": {},
   "source": [
    "Now the data will be separated into X and y then we split the train, validation, and test sets with stratified sampling on the labels.\n",
    "\n",
    "The steps will be:\n",
    "1. separate the X and y.\n",
    "2. check the shape to make sure the dimensions are right.\n",
    "3. separate into train and test sets with the stratify parameter being the label feature.\n",
    "4. separate into train and val sets with the stratify parameter being the label features again.\n",
    "5. then drop the label column from X because it was only used for stratification.\n",
    "6. check the shape to make sure the dimensions are right again."
   ]
  },
  {
   "cell_type": "code",
   "execution_count": 90,
   "metadata": {},
   "outputs": [],
   "source": [
    "X_train, X_test, y_train, y_test = train_test_split(df, df.iloc[:,0], test_size=0.1, stratify=df.iloc[:,0])\n",
    "X_train, X_val, y_train, y_val = train_test_split(X_train, y_train, test_size=0.1, stratify=X_train.iloc[:,0])"
   ]
  },
  {
   "cell_type": "markdown",
   "metadata": {},
   "source": [
    "Now lets check that the shapes are correct. "
   ]
  },
  {
   "cell_type": "code",
   "execution_count": 91,
   "metadata": {},
   "outputs": [
    {
     "name": "stdout",
     "output_type": "stream",
     "text": [
      "X_train.shape = (31896, 785)\n",
      "y_train.shape = (31896,)\n",
      "X_val.shape = (3544, 785)\n",
      "y_val.shape = (3544,)\n",
      "X_test.shape = (3938, 785)\n",
      "y_test.shape = (3938,)\n"
     ]
    }
   ],
   "source": [
    "print(f'{X_train.shape = }')\n",
    "print(f'{y_train.shape = }')\n",
    "print(f'{X_val.shape = }')\n",
    "print(f'{y_val.shape = }')\n",
    "print(f'{X_test.shape = }')\n",
    "print(f'{y_test.shape = }')"
   ]
  },
  {
   "cell_type": "markdown",
   "metadata": {},
   "source": [
    "Now we can drop the label columns for all the X datasets as it was only left there for stratification."
   ]
  },
  {
   "cell_type": "code",
   "execution_count": 92,
   "metadata": {},
   "outputs": [],
   "source": [
    "X_train.drop(columns='labels', inplace=True)\n",
    "X_val.drop(columns='labels', inplace=True)\n",
    "X_test.drop(columns='labels', inplace=True)"
   ]
  },
  {
   "cell_type": "code",
   "execution_count": 93,
   "metadata": {},
   "outputs": [
    {
     "name": "stdout",
     "output_type": "stream",
     "text": [
      "X_train.shape = (31896, 784)\n",
      "y_train.shape = (31896,)\n",
      "X_val.shape = (3544, 784)\n",
      "y_val.shape = (3544,)\n",
      "X_test.shape = (3938, 784)\n",
      "y_test.shape = (3938,)\n"
     ]
    }
   ],
   "source": [
    "print(f'{X_train.shape = }')\n",
    "print(f'{y_train.shape = }')\n",
    "print(f'{X_val.shape = }')\n",
    "print(f'{y_val.shape = }')\n",
    "print(f'{X_test.shape = }')\n",
    "print(f'{y_test.shape = }')"
   ]
  },
  {
   "cell_type": "markdown",
   "metadata": {},
   "source": [
    "We will convert all the datasets to numpy arrays."
   ]
  },
  {
   "cell_type": "code",
   "execution_count": 94,
   "metadata": {},
   "outputs": [],
   "source": [
    "X_train = X_train.to_numpy()\n",
    "X_val = X_val.to_numpy()\n",
    "X_test = X_test.to_numpy()\n",
    "\n",
    "y_train = y_train.to_numpy()\n",
    "y_val = y_val.to_numpy()\n",
    "y_test = y_test.to_numpy()"
   ]
  },
  {
   "cell_type": "markdown",
   "metadata": {},
   "source": [
    "Finally let's normalize the data."
   ]
  },
  {
   "cell_type": "code",
   "execution_count": 95,
   "metadata": {},
   "outputs": [],
   "source": [
    "mm_scaler = MinMaxScaler()"
   ]
  },
  {
   "cell_type": "code",
   "execution_count": 96,
   "metadata": {},
   "outputs": [],
   "source": [
    "X_train_scaled = mm_scaler.fit_transform(X_train)\n",
    "X_val_scaled = mm_scaler.transform(X_val)\n",
    "X_test_scaled = mm_scaler.transform(X_test)\n",
    "# y_train, y_val, y_test = y_train -1, y_val-1, y_test-1\n",
    "# X_train_255, X_val_255, X_test_255 = X_train / 255, X_val / 255, X_test / 255"
   ]
  },
  {
   "cell_type": "code",
   "execution_count": 97,
   "metadata": {},
   "outputs": [],
   "source": [
    "# X_train_255, X_val_255, X_test_255 = X_train / 255, X_val / 255, X_test / 255\n",
    "# from numpy.testing import assert_almost_equal\n",
    "# assert_almost_equal(X_train_255, X_train_scaled)\n",
    "# assert_almost_equal(X_val_255, X_val_scaled)\n",
    "# assert_almost_equal(X_test_255, X_test_scaled)"
   ]
  },
  {
   "cell_type": "markdown",
   "metadata": {},
   "source": [
    "# Machine Learning"
   ]
  },
  {
   "cell_type": "markdown",
   "metadata": {},
   "source": [
    "In this step we will perform machine learning. We will use different models and compare their evaluations to decide which one to use.  \n",
    "\n",
    "The three models that I will try are:\n",
    "1. XGBoost (Ensemble Random Forest), \n",
    "2. Neural Network, \n",
    "3. Convolutional Neural Network."
   ]
  },
  {
   "cell_type": "markdown",
   "metadata": {},
   "source": [
    "## XGBoost"
   ]
  },
  {
   "cell_type": "code",
   "execution_count": 98,
   "metadata": {},
   "outputs": [
    {
     "name": "stdout",
     "output_type": "stream",
     "text": [
      "Validation Accuracy: 0.9830699774266366\n",
      "Testing Accuracy: 0.9834941594718131\n",
      "Confusion Matrix:\n",
      "[[332   0   0   0   0   0   0   0   0   0]\n",
      " [  0 393   2   0   1   0   0   4   0   1]\n",
      " [  0   4 393   1   0   0   1   0   0   1]\n",
      " [  0   3   1 392   0   2   1   2   0   0]\n",
      " [  0   3   0   0 396   0   0   0   0   2]\n",
      " [  0   0   0   0   0 397   2   0   1   0]\n",
      " [  0   0   0   0   3   4 391   0   3   0]\n",
      " [  0   3   0   1   0   1   0 394   1   1]\n",
      " [  0   2   2   0   0   1   1   1 393   1]\n",
      " [  0   0   0   1   3   0   0   2   2 392]]\n",
      "F1 Score: 0.9835028620113444\n"
     ]
    },
    {
     "name": "stderr",
     "output_type": "stream",
     "text": [
      "/Users/robertopark/Documents/code-projects/datascience-projects/sudoku-solver-app/.venv/lib/python3.11/site-packages/xgboost/core.py:160: UserWarning: [20:53:03] WARNING: /Users/runner/work/xgboost/xgboost/src/c_api/c_api.cc:1240: Saving into deprecated binary model format, please consider using `json` or `ubj`. Model format will default to JSON in XGBoost 2.2 if not specified.\n",
      "  warnings.warn(smsg, UserWarning)\n"
     ]
    }
   ],
   "source": [
    "with mlflow.start_run(run_name=\"XGBClassifier\"):\n",
    "    params = {\n",
    "        'objective': 'multi:softmax',\n",
    "        'num_class': 10,\n",
    "        'max_depth': 6,\n",
    "        'learning_rate': 0.3,\n",
    "        'n_estimators': 100\n",
    "    }\n",
    "    mlflow.log_params(params)\n",
    "\n",
    "    xgb = XGBClassifier(\n",
    "        objective='multi:softmax',\n",
    "        num_class=10,  \n",
    "        max_depth=6,  \n",
    "        learning_rate=0.3,  \n",
    "        n_estimators=100\n",
    "    )\n",
    "    xgb.fit(X_train_scaled, y_train)\n",
    "\n",
    "    y_val_pred = xgb.predict(X_val_scaled)\n",
    "    val_accuracy = accuracy_score(y_val, y_val_pred)\n",
    "    print(\"Validation Accuracy:\", val_accuracy)\n",
    "\n",
    "    y_test_pred = xgb.predict(X_test_scaled)\n",
    "    test_accuracy = accuracy_score(y_test, y_test_pred)\n",
    "    print(\"Testing Accuracy:\", test_accuracy)\n",
    "\n",
    "    conf_matrix = confusion_matrix(y_test, y_test_pred)\n",
    "    print(\"Confusion Matrix:\")\n",
    "    print(conf_matrix)\n",
    "    \n",
    "    f1 = f1_score(y_test, y_test_pred, average='weighted')\n",
    "    print(\"F1 Score:\", f1)\n",
    "    \n",
    "    metrics = {\n",
    "        'val_accuracy': val_accuracy,\n",
    "        'test_accuracy': test_accuracy,\n",
    "        # 'confusion_matrix': conf_matrix,\n",
    "        'f1_score': f1\n",
    "    }\n",
    "    \n",
    "    xgb.save_model('./models/xgb.json')\n",
    "    \n",
    "    mlflow.log_metrics(metrics)\n",
    "    \n",
    "    # plt.figure(figsize=(8, 6))\n",
    "    # sns.heatmap(conf_matrix, annot=True, cmap='Blues', fmt='d')\n",
    "    # plt.xlabel('Predicted labels')\n",
    "    # plt.ylabel('True labels')\n",
    "    # plt.title('Confusion Matrix')\n",
    "    # plt.savefig('confusion_matrix.png')\n",
    "    # plt.close()\n",
    "    # mlflow.log_artifact('confusion_matrix.png')\n",
    "    \n",
    "    mlflow.xgboost.log_model(xgb, \"xgboost-model\")\n",
    "    "
   ]
  },
  {
   "cell_type": "code",
   "execution_count": 101,
   "metadata": {},
   "outputs": [
    {
     "name": "stdout",
     "output_type": "stream",
     "text": [
      "image = 'sudoku-1.png'\n",
      "Prediction Label: 1\n",
      "Prediction Score: [[-5.629  7.266 -6.219 -3.007 -1.332 -2.413 -7.072 -3.235 -5.939 -4.674]]\n",
      "image = 'sudoku-2.png'\n",
      "Prediction Label: 2\n",
      "Prediction Score: [[-5.629 -5.412  9.947 -3.251 -6.991 -6.121 -5.259 -3.297 -4.292 -4.157]]\n",
      "image = 'sudoku-3.png'\n",
      "Prediction Label: 3\n",
      "Prediction Score: [[-5.629 -5.323 -4.299  5.993 -6.001 -4.046 -6.105 -4.275 -2.556 -4.523]]\n",
      "image = 'sudoku-7.png'\n",
      "Prediction Label: 7\n",
      "Prediction Score: [[-5.594 -4.681 -1.634 -3.75  -4.95  -5.641 -6.953  6.095 -2.538 -4.673]]\n",
      "image = 'sudoku-6.png'\n",
      "Prediction Label: 6\n",
      "Prediction Score: [[-5.629 -6.417 -5.477 -6.001 -5.004 -3.145  3.914 -6.502  2.938 -5.955]]\n",
      "image = 'sudoku-4.png'\n",
      "Prediction Label: 4\n",
      "Prediction Score: [[-5.588 -3.868 -4.686 -5.062 10.236 -4.619 -3.696 -6.317 -2.467 -4.939]]\n",
      "image = 'sudoku-5.png'\n",
      "Prediction Label: 5\n",
      "Prediction Score: [[-5.629 -5.546 -5.826 -5.75  -5.341  8.298 -0.88  -6.487 -4.028 -5.618]]\n",
      "image = 'sudoku-blank.png'\n",
      "Prediction Label: 7\n",
      "Prediction Score: [[-4.763 -3.21  -6.013 -5.522 -3.639 -5.131 -4.745 -3.156 -5.998 -4.935]]\n",
      "image = 'sudoku-8.png'\n",
      "Prediction Label: 8\n",
      "Prediction Score: [[-5.629 -6.59  -2.845 -4.826 -4.643 -5.33  -1.401 -6.044  5.543 -5.44 ]]\n",
      "image = 'sudoku-9.png'\n",
      "Prediction Label: 9\n",
      "Prediction Score: [[-4.921 -6.554 -2.773 -4.886 -4.161 -2.409 -2.699 -5.626 -2.862  5.33 ]]\n"
     ]
    }
   ],
   "source": [
    "rel_path = './images/toy/'\n",
    "for image in os.listdir(rel_path):\n",
    "    if image.startswith('sudoku') and image.endswith('.png'):\n",
    "        print(f'{image = }')\n",
    "        image = cv2.imread(rel_path+image)\n",
    "\n",
    "        image = image_to_pixels(image, (28,28)).flatten()\n",
    "        image = mm_scaler.transform([image])\n",
    "        image = image.reshape(1, -1)\n",
    "        predictions = xgb.predict(image, output_margin=True)\n",
    "\n",
    "        print(f'Prediction Label: {predictions.argmax()}')\n",
    "        print(f'Prediction Score: {predictions.round(3)}')"
   ]
  },
  {
   "cell_type": "markdown",
   "metadata": {},
   "source": [
    "## Neural Network"
   ]
  },
  {
   "cell_type": "markdown",
   "metadata": {},
   "source": []
  },
  {
   "cell_type": "markdown",
   "metadata": {},
   "source": [
    "## Convolutional Neural Network"
   ]
  },
  {
   "cell_type": "markdown",
   "metadata": {},
   "source": [
    "For a CNN you need to preprocess the pixels before you feed them into the model."
   ]
  },
  {
   "cell_type": "markdown",
   "metadata": {},
   "source": [
    "# Preprocess images for Convolutional Neural Network"
   ]
  },
  {
   "cell_type": "markdown",
   "metadata": {},
   "source": [
    "As we can see, the X holds the value of file path to the image and so we need to be able to get the images in those file paths, convert those images into pixel values and then make each pixel value be one feature or column in the new X.\n",
    "\n",
    "Until now we were exploring and cleaning data from different datasets with different structures but now that we have combined and we are ready for preprocessing the data for machine learning, we will be using functions later to be saved in the utils.py."
   ]
  },
  {
   "cell_type": "code",
   "execution_count": null,
   "metadata": {},
   "outputs": [],
   "source": [
    "import cv2\n",
    "import numpy as np\n",
    "def df_to_pixels_array(df:pd.DataFrame, label:str, resize_dim:tuple, rel_path) -> np.array:\n",
    "    \"\"\"\n",
    "    Takes a column from a pandas dataframe that has the values for the file path of images.\n",
    "    Then it reads the files, converts them to grayscale and flattens the pixel values\n",
    "    to finally return a numpy array of those values.\n",
    "\n",
    "    Parameters:\n",
    "    df_filepath (dataframe): The dataframe to process.\n",
    "    label (string): The name of the column containing the file paths\n",
    "    resize (tuple): The dimensions to resize the image before flattening.\n",
    "    rel_path (string): The relative file path before the value in the dataframe column.\n",
    "\n",
    "    Returns:\n",
    "    array: (m, n) numpy array of grayscale pixel values.\n",
    "            m -> # of images\n",
    "            n -> product of resize tuple provided\n",
    "    \"\"\"\n",
    "    i = len(df[label])\n",
    "    m = resize_dim[0]\n",
    "    n = resize_dim[1]\n",
    "    df_array = np.zeros((i, m, n), dtype=np.uint8)\n",
    "    for index, file_path in enumerate(df[label]):\n",
    "        file_path = rel_path + file_path\n",
    "        image = cv2.imread(file_path, cv2.IMREAD_GRAYSCALE)\n",
    "        image = cv2.equalizeHist(image)\n",
    "        image = cv2.resize(image, resize_dim)\n",
    "        if image is None:\n",
    "            print(\"Error: Unable to read the image.\")\n",
    "            print(file_path)\n",
    "        else:\n",
    "            df_array[index] = image\n",
    "    return df_array"
   ]
  },
  {
   "cell_type": "code",
   "execution_count": null,
   "metadata": {},
   "outputs": [],
   "source": [
    "rel_path = './images/numbers/'\n",
    "label = 'file'\n",
    "resize_dim = (32,32)\n",
    "X_train = df_to_pixels_array(X_train, label, resize_dim, rel_path)\n",
    "X_val = df_to_pixels_array(X_val, label, resize_dim, rel_path)\n",
    "X_test = df_to_pixels_array(X_test, label, resize_dim, rel_path)\n"
   ]
  },
  {
   "cell_type": "markdown",
   "metadata": {},
   "source": [
    "Let's check that the dimensions and datatypes are correct for X_train, X_val, and X_test."
   ]
  },
  {
   "cell_type": "code",
   "execution_count": null,
   "metadata": {},
   "outputs": [],
   "source": [
    "print(f'{X_train.shape = }')\n",
    "print(f'{X_val.shape = }')\n",
    "print(f'{X_test.shape = }')"
   ]
  },
  {
   "cell_type": "markdown",
   "metadata": {},
   "source": [
    "Now it is time for further preprocessing before we train the Convolutional Neural Network for it to be able to predict numbers.  \n",
    "Specifically, we are going to normalize the data. Right now, the range of each pixel is from 0, 255 with 0 being black and 255 white. By normalizing the data the range will be from 0~1 conserving the ratio, and this will help the model to converge more efficiently."
   ]
  },
  {
   "cell_type": "code",
   "execution_count": null,
   "metadata": {},
   "outputs": [],
   "source": [
    "X_train = tf.keras.utils.normalize(X_train, axis=1)\n",
    "X_train = np.array(X_train).reshape(-1, resize_dim[0], resize_dim[1], 1)\n",
    "X_val = tf.keras.utils.normalize(X_val, axis=1)\n",
    "X_val = np.array(X_val).reshape(-1, resize_dim[0], resize_dim[1], 1)\n",
    "X_test = tf.keras.utils.normalize(X_test, axis=1)\n",
    "X_test = np.array(X_test).reshape(-1, resize_dim[0], resize_dim[1], 1)"
   ]
  },
  {
   "cell_type": "markdown",
   "metadata": {},
   "source": [
    "# Build Convolutional Neural Network Model to train and test"
   ]
  },
  {
   "cell_type": "markdown",
   "metadata": {},
   "source": [
    "Then we build the arquitecture for the CNN and compile the model."
   ]
  },
  {
   "cell_type": "code",
   "execution_count": null,
   "metadata": {},
   "outputs": [],
   "source": [
    "model = Sequential(\n",
    "    [\n",
    "        Conv2D(32, (3,3), padding='valid', activation='relu', input_shape=(X_train.shape[1:])),\n",
    "        BatchNormalization(),\n",
    "        Conv2D(32, (3,3), padding='valid', activation='relu'),\n",
    "        BatchNormalization(),\n",
    "        MaxPooling2D((2,2)),\n",
    "        Dropout(0.25),\n",
    "\n",
    "        Conv2D(64, (3,3), padding='valid', activation='relu'),\n",
    "        BatchNormalization(),\n",
    "        MaxPooling2D((2,2)),\n",
    "        Conv2D(64, (3,3), padding='valid', activation='relu'),\n",
    "        BatchNormalization(),\n",
    "        MaxPooling2D((2,2)),\n",
    "        Dropout(0.25),\n",
    "\n",
    "        Flatten(),\n",
    "        Dense(512,activation='relu'),\n",
    "        BatchNormalization(),\n",
    "        Dropout(0.25),\n",
    "        Dense(1024,activation='relu'),\n",
    "        BatchNormalization(),\n",
    "        Dropout(0.25),\n",
    "        Dense(9, activation='softmax')\n",
    "    ]\n",
    ")\n",
    "optimizer = Adam(learning_rate=0.0001)\n",
    "model.compile(\n",
    "    optimizer=optimizer, \n",
    "    loss='sparse_categorical_crossentropy', \n",
    "    metrics=['accuracy']\n",
    ")\n",
    "\n",
    "model.summary()"
   ]
  },
  {
   "cell_type": "markdown",
   "metadata": {},
   "source": [
    "Before we fit the model we are going to generate batches of augmented data for the X_train and y_train."
   ]
  },
  {
   "cell_type": "code",
   "execution_count": null,
   "metadata": {},
   "outputs": [],
   "source": [
    "early_stopping = EarlyStopping(monitor='val_loss', patience=5, mode='min')\n",
    "model.fit(x_train, y_train, validation_data=(x_val, y_val), epochs=100, callbacks=[early_stopping])"
   ]
  },
  {
   "cell_type": "code",
   "execution_count": null,
   "metadata": {},
   "outputs": [],
   "source": [
    "# datagen = ImageDataGenerator(\n",
    "#     rotation_range=10,\n",
    "#     width_shift_range=0.2,\n",
    "#     height_shift_range=0.2,\n",
    "#     shear_range=0.2,\n",
    "#     zoom_range=0.2,\n",
    "#     # horizontal_flip=True,\n",
    "#     fill_mode='nearest'\n",
    "# )\n",
    "# datagen.fit(X_train)\n",
    "# train_generator = datagen.flow(X_train, y_train-1, batch_size=32)\n",
    "# model.fit(train_generator, validation_data= (X_val, y_val-1), epochs=5)\n",
    "model.fit(X_train, y_train, validation_data= (X_val, y_val), epochs=50, batch_size=32)"
   ]
  },
  {
   "cell_type": "markdown",
   "metadata": {},
   "source": [
    "Fit the model to the train data, and subtract 1 from y_train as the outputlayer contains 1~9 but counting starts from 0."
   ]
  },
  {
   "cell_type": "code",
   "execution_count": null,
   "metadata": {},
   "outputs": [],
   "source": [
    "# model.fit(X_train, y_train - 1, epochs=3, validation_split=0.2, batch_size=32, verbose='auto')"
   ]
  },
  {
   "cell_type": "markdown",
   "metadata": {},
   "source": [
    "Evaluate the model to see how it did on the test data."
   ]
  },
  {
   "cell_type": "code",
   "execution_count": null,
   "metadata": {},
   "outputs": [],
   "source": [
    "loss, accuracy = model.evaluate(X_test, y_test)\n",
    "print(f'{loss = }')\n",
    "print(f'{accuracy = }')"
   ]
  },
  {
   "cell_type": "markdown",
   "metadata": {},
   "source": [
    "Make some functions to preprocess the images for the models to predict"
   ]
  },
  {
   "cell_type": "code",
   "execution_count": null,
   "metadata": {},
   "outputs": [],
   "source": [
    "def image_to_pixels(image:np.array) -> np.array:\n",
    "    resize_dim = (32, 32)\n",
    "    gray_image = cv2.cvtColor(image, cv2.COLOR_BGR2GRAY)\n",
    "    equalized_image = cv2.equalizeHist(gray_image)\n",
    "    image = cv2.resize(equalized_image, resize_dim)\n",
    "    return image"
   ]
  },
  {
   "cell_type": "code",
   "execution_count": null,
   "metadata": {},
   "outputs": [],
   "source": [
    "def preprocess_pixels(image:np.array) -> np.array:\n",
    "    resize_dim = (32,32)\n",
    "    normalized_image = tf.keras.utils.normalize(image, axis=1)\n",
    "    preprocessed_image = np.array(normalized_image).reshape(-1, resize_dim[0], resize_dim[1], 1)\n",
    "    return preprocessed_image"
   ]
  },
  {
   "cell_type": "markdown",
   "metadata": {},
   "source": [
    "Try to see how well the model predicts with toy data from self made handwritten digits, which is not that very important compared to the actual digits that real Sudoku would hold (mostly computer font digits)."
   ]
  },
  {
   "cell_type": "code",
   "execution_count": null,
   "metadata": {},
   "outputs": [],
   "source": [
    "import os\n",
    "directory = './images/toy/'\n",
    "files = os.listdir(directory)\n",
    "# resize_dim = (32,32)\n",
    "for file in files:\n",
    "    if file == '2022-us-sudoku-grand-prix-round.png':\n",
    "        pass\n",
    "    else:\n",
    "        full_path = directory + file\n",
    "        image = cv2.imread(full_path)\n",
    "        image = image_to_pixels(image)\n",
    "        image = preprocess_pixels(image)\n",
    "        prediction = model.predict(image)\n",
    "        prediction_label = prediction.argmax() + 1\n",
    "        predicted_probability = prediction.max()\n",
    "        print(f'{file = }')\n",
    "        print(f'{prediction.round(3) = }')\n",
    "        print(f'{prediction_label = }')\n",
    "        print(f'{predicted_probability = }')\n",
    "        "
   ]
  },
  {
   "cell_type": "markdown",
   "metadata": {},
   "source": [
    "We can see that the model performs above 95% on the real Sudoku digits, so we will save the model."
   ]
  },
  {
   "cell_type": "code",
   "execution_count": null,
   "metadata": {},
   "outputs": [],
   "source": [
    "model.save('./models/cnn_8.h5')"
   ]
  },
  {
   "cell_type": "markdown",
   "metadata": {},
   "source": [
    "After a lot of trial and error we reached the best model so far being the cnn_5.h5 model."
   ]
  },
  {
   "cell_type": "code",
   "execution_count": null,
   "metadata": {},
   "outputs": [],
   "source": []
  }
 ],
 "metadata": {
  "kernelspec": {
   "display_name": ".venv",
   "language": "python",
   "name": "python3"
  },
  "language_info": {
   "codemirror_mode": {
    "name": "ipython",
    "version": 3
   },
   "file_extension": ".py",
   "mimetype": "text/x-python",
   "name": "python",
   "nbconvert_exporter": "python",
   "pygments_lexer": "ipython3",
   "version": "3.11.0"
  }
 },
 "nbformat": 4,
 "nbformat_minor": 2
}
